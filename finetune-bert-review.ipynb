{
 "cells": [
  {
   "cell_type": "code",
   "execution_count": 1,
   "id": "e0552ddc-5f0a-40e8-acc6-c6dcbf2b36dc",
   "metadata": {},
   "outputs": [
    {
     "name": "stderr",
     "output_type": "stream",
     "text": [
      "/home/prtissot/Documents/IA/ENV/lib/python3.11/site-packages/tqdm/auto.py:21: TqdmWarning: IProgress not found. Please update jupyter and ipywidgets. See https://ipywidgets.readthedocs.io/en/stable/user_install.html\n",
      "  from .autonotebook import tqdm as notebook_tqdm\n"
     ]
    },
    {
     "name": "stdout",
     "output_type": "stream",
     "text": [
      "cuda:0\n"
     ]
    }
   ],
   "source": [
    "import torch \n",
    "import pickle\n",
    "from tqdm import tqdm\n",
    "from transformers import BertTokenizer,BertModel\n",
    "from datasets import load_dataset\n",
    "import torch.nn.functional as F\n",
    "import torch.optim as optim\n",
    "from torch.utils.data import Dataset, random_split, DataLoader\n",
    "from transformers import BertTokenizer,BertModel\n",
    "from torch import nn\n",
    "import numpy as np\n",
    "import matplotlib.pyplot as plt\n",
    "from sklearn import metrics\n",
    "from sklearn.metrics import balanced_accuracy_score\n",
    "import pandas as pd\n",
    "\n",
    "device = torch.device(\"cuda:0\" if torch.cuda.is_available() else \"cpu\")\n",
    "# device = 'cpu'\n",
    "print(device)"
   ]
  },
  {
   "cell_type": "code",
   "execution_count": 2,
   "id": "3c5e62df-7010-4675-bc73-f9d9ba02909f",
   "metadata": {},
   "outputs": [],
   "source": [
    "tokenizer = BertTokenizer.from_pretrained('bert-base-uncased') \n",
    "# model = BertModel.from_pretrained(\"bert-base-uncased\")"
   ]
  },
  {
   "cell_type": "code",
   "execution_count": 3,
   "id": "b5978eed-7c57-413d-8b8b-1d793d634f63",
   "metadata": {},
   "outputs": [
    {
     "name": "stderr",
     "output_type": "stream",
     "text": [
      "/tmp/ipykernel_14627/966736329.py:1: DtypeWarning: Columns (1,2,3,4,5,6,7,8) have mixed types. Specify dtype option on import or set low_memory=False.\n",
      "  df = pd.read_csv('data/Yelp_cities/Atlanta_reviews.csv')\n"
     ]
    }
   ],
   "source": [
    "df = pd.read_csv('data/Yelp_cities/Atlanta_reviews.csv')\n",
    "# with open(\"data_reviews/Atlanta_trainValidTest/labels.pickle\", \"rb\") as f:\n",
    "#     x = pickle.load(f)\n",
    "# df_count = df.groupby('business_id').count()\n",
    "# df_count = df_count[df_count.index.isin(x)]\n",
    "# df = df[df.business_id.isin(df_count.index)]"
   ]
  },
  {
   "cell_type": "code",
   "execution_count": 4,
   "id": "d03d3a15-ddb2-44af-ba17-017574a2d4c0",
   "metadata": {},
   "outputs": [],
   "source": [
    "def get_sup(df, nb=100):\n",
    "    df_count = df.groupby('business_id').count()\n",
    "    df_plus = df_count[df_count.review_id >= nb]\n",
    "    return df[df.business_id.isin(df_plus.index)]\n",
    "\n",
    "def get_groupby_business(df):\n",
    "    return df.groupby('business_id').count()\n",
    "\n",
    "def get_groupby_price(df):\n",
    "    return df.groupby('price').count()"
   ]
  },
  {
   "cell_type": "code",
   "execution_count": 5,
   "id": "83e2a446-f660-4072-a13b-eb7de38b52f9",
   "metadata": {},
   "outputs": [
    {
     "data": {
      "text/html": [
       "<div>\n",
       "<style scoped>\n",
       "    .dataframe tbody tr th:only-of-type {\n",
       "        vertical-align: middle;\n",
       "    }\n",
       "\n",
       "    .dataframe tbody tr th {\n",
       "        vertical-align: top;\n",
       "    }\n",
       "\n",
       "    .dataframe thead th {\n",
       "        text-align: right;\n",
       "    }\n",
       "</style>\n",
       "<table border=\"1\" class=\"dataframe\">\n",
       "  <thead>\n",
       "    <tr style=\"text-align: right;\">\n",
       "      <th></th>\n",
       "      <th>business_id</th>\n",
       "      <th>review_id</th>\n",
       "      <th>user id</th>\n",
       "      <th>stars</th>\n",
       "      <th>review_date</th>\n",
       "      <th>text</th>\n",
       "      <th>name</th>\n",
       "      <th>categories</th>\n",
       "      <th>address</th>\n",
       "      <th>postal code</th>\n",
       "      <th>text_length</th>\n",
       "    </tr>\n",
       "    <tr>\n",
       "      <th>price</th>\n",
       "      <th></th>\n",
       "      <th></th>\n",
       "      <th></th>\n",
       "      <th></th>\n",
       "      <th></th>\n",
       "      <th></th>\n",
       "      <th></th>\n",
       "      <th></th>\n",
       "      <th></th>\n",
       "      <th></th>\n",
       "      <th></th>\n",
       "    </tr>\n",
       "  </thead>\n",
       "  <tbody>\n",
       "    <tr>\n",
       "      <th>0.0</th>\n",
       "      <td>93758</td>\n",
       "      <td>93758</td>\n",
       "      <td>93758</td>\n",
       "      <td>93758</td>\n",
       "      <td>93758</td>\n",
       "      <td>93758</td>\n",
       "      <td>13</td>\n",
       "      <td>13</td>\n",
       "      <td>13</td>\n",
       "      <td>13</td>\n",
       "      <td>13</td>\n",
       "    </tr>\n",
       "    <tr>\n",
       "      <th>1.0</th>\n",
       "      <td>99670</td>\n",
       "      <td>99670</td>\n",
       "      <td>99670</td>\n",
       "      <td>99670</td>\n",
       "      <td>99670</td>\n",
       "      <td>99670</td>\n",
       "      <td>99670</td>\n",
       "      <td>99670</td>\n",
       "      <td>99670</td>\n",
       "      <td>99670</td>\n",
       "      <td>99670</td>\n",
       "    </tr>\n",
       "    <tr>\n",
       "      <th>2.0</th>\n",
       "      <td>437486</td>\n",
       "      <td>437486</td>\n",
       "      <td>437486</td>\n",
       "      <td>437486</td>\n",
       "      <td>437486</td>\n",
       "      <td>437486</td>\n",
       "      <td>437486</td>\n",
       "      <td>437486</td>\n",
       "      <td>437486</td>\n",
       "      <td>437486</td>\n",
       "      <td>437486</td>\n",
       "    </tr>\n",
       "    <tr>\n",
       "      <th>3.0</th>\n",
       "      <td>44621</td>\n",
       "      <td>44621</td>\n",
       "      <td>44621</td>\n",
       "      <td>44621</td>\n",
       "      <td>44621</td>\n",
       "      <td>44621</td>\n",
       "      <td>44621</td>\n",
       "      <td>44621</td>\n",
       "      <td>44621</td>\n",
       "      <td>44621</td>\n",
       "      <td>44621</td>\n",
       "    </tr>\n",
       "    <tr>\n",
       "      <th>4.0</th>\n",
       "      <td>5754</td>\n",
       "      <td>5754</td>\n",
       "      <td>5754</td>\n",
       "      <td>5754</td>\n",
       "      <td>5754</td>\n",
       "      <td>5754</td>\n",
       "      <td>5754</td>\n",
       "      <td>5754</td>\n",
       "      <td>5754</td>\n",
       "      <td>5754</td>\n",
       "      <td>5754</td>\n",
       "    </tr>\n",
       "  </tbody>\n",
       "</table>\n",
       "</div>"
      ],
      "text/plain": [
       "       business_id  review_id  user id   stars  review_date    text    name  \\\n",
       "price                                                                         \n",
       "0.0          93758      93758    93758   93758        93758   93758      13   \n",
       "1.0          99670      99670    99670   99670        99670   99670   99670   \n",
       "2.0         437486     437486   437486  437486       437486  437486  437486   \n",
       "3.0          44621      44621    44621   44621        44621   44621   44621   \n",
       "4.0           5754       5754     5754    5754         5754    5754    5754   \n",
       "\n",
       "       categories  address  postal code  text_length  \n",
       "price                                                 \n",
       "0.0            13       13           13           13  \n",
       "1.0         99670    99670        99670        99670  \n",
       "2.0        437486   437486       437486       437486  \n",
       "3.0         44621    44621        44621        44621  \n",
       "4.0          5754     5754         5754         5754  "
      ]
     },
     "execution_count": 5,
     "metadata": {},
     "output_type": "execute_result"
    }
   ],
   "source": [
    "df = get_sup(df,2)\n",
    "df.price = df.price.astype(float).fillna(0.0)\n",
    "get_groupby_price(df)"
   ]
  },
  {
   "cell_type": "code",
   "execution_count": 6,
   "id": "8ccff776-57b0-4925-859e-74ff0ab41f46",
   "metadata": {},
   "outputs": [
    {
     "name": "stdout",
     "output_type": "stream",
     "text": [
      "(540160, 12)\n"
     ]
    },
    {
     "data": {
      "text/html": [
       "<div>\n",
       "<style scoped>\n",
       "    .dataframe tbody tr th:only-of-type {\n",
       "        vertical-align: middle;\n",
       "    }\n",
       "\n",
       "    .dataframe tbody tr th {\n",
       "        vertical-align: top;\n",
       "    }\n",
       "\n",
       "    .dataframe thead th {\n",
       "        text-align: right;\n",
       "    }\n",
       "</style>\n",
       "<table border=\"1\" class=\"dataframe\">\n",
       "  <thead>\n",
       "    <tr style=\"text-align: right;\">\n",
       "      <th></th>\n",
       "      <th>business_id</th>\n",
       "      <th>review_id</th>\n",
       "      <th>user id</th>\n",
       "      <th>stars</th>\n",
       "      <th>review_date</th>\n",
       "      <th>text</th>\n",
       "      <th>name</th>\n",
       "      <th>categories</th>\n",
       "      <th>address</th>\n",
       "      <th>postal code</th>\n",
       "      <th>text_length</th>\n",
       "    </tr>\n",
       "    <tr>\n",
       "      <th>price</th>\n",
       "      <th></th>\n",
       "      <th></th>\n",
       "      <th></th>\n",
       "      <th></th>\n",
       "      <th></th>\n",
       "      <th></th>\n",
       "      <th></th>\n",
       "      <th></th>\n",
       "      <th></th>\n",
       "      <th></th>\n",
       "      <th></th>\n",
       "    </tr>\n",
       "  </thead>\n",
       "  <tbody>\n",
       "    <tr>\n",
       "      <th>0.0</th>\n",
       "      <td>13</td>\n",
       "      <td>13</td>\n",
       "      <td>13</td>\n",
       "      <td>13</td>\n",
       "      <td>13</td>\n",
       "      <td>13</td>\n",
       "      <td>13</td>\n",
       "      <td>13</td>\n",
       "      <td>13</td>\n",
       "      <td>13</td>\n",
       "      <td>13</td>\n",
       "    </tr>\n",
       "    <tr>\n",
       "      <th>1.0</th>\n",
       "      <td>91799</td>\n",
       "      <td>91799</td>\n",
       "      <td>91799</td>\n",
       "      <td>91799</td>\n",
       "      <td>91799</td>\n",
       "      <td>91799</td>\n",
       "      <td>91799</td>\n",
       "      <td>91799</td>\n",
       "      <td>91799</td>\n",
       "      <td>91799</td>\n",
       "      <td>91799</td>\n",
       "    </tr>\n",
       "    <tr>\n",
       "      <th>2.0</th>\n",
       "      <td>401769</td>\n",
       "      <td>401769</td>\n",
       "      <td>401769</td>\n",
       "      <td>401769</td>\n",
       "      <td>401769</td>\n",
       "      <td>401769</td>\n",
       "      <td>401769</td>\n",
       "      <td>401769</td>\n",
       "      <td>401769</td>\n",
       "      <td>401769</td>\n",
       "      <td>401769</td>\n",
       "    </tr>\n",
       "    <tr>\n",
       "      <th>3.0</th>\n",
       "      <td>41307</td>\n",
       "      <td>41307</td>\n",
       "      <td>41307</td>\n",
       "      <td>41307</td>\n",
       "      <td>41307</td>\n",
       "      <td>41307</td>\n",
       "      <td>41307</td>\n",
       "      <td>41307</td>\n",
       "      <td>41307</td>\n",
       "      <td>41307</td>\n",
       "      <td>41307</td>\n",
       "    </tr>\n",
       "    <tr>\n",
       "      <th>4.0</th>\n",
       "      <td>5272</td>\n",
       "      <td>5272</td>\n",
       "      <td>5272</td>\n",
       "      <td>5272</td>\n",
       "      <td>5272</td>\n",
       "      <td>5272</td>\n",
       "      <td>5272</td>\n",
       "      <td>5272</td>\n",
       "      <td>5272</td>\n",
       "      <td>5272</td>\n",
       "      <td>5272</td>\n",
       "    </tr>\n",
       "  </tbody>\n",
       "</table>\n",
       "</div>"
      ],
      "text/plain": [
       "       business_id  review_id  user id   stars  review_date    text    name  \\\n",
       "price                                                                         \n",
       "0.0             13         13       13      13           13      13      13   \n",
       "1.0          91799      91799    91799   91799        91799   91799   91799   \n",
       "2.0         401769     401769   401769  401769       401769  401769  401769   \n",
       "3.0          41307      41307    41307   41307        41307   41307   41307   \n",
       "4.0           5272       5272     5272    5272         5272    5272    5272   \n",
       "\n",
       "       categories  address  postal code  text_length  \n",
       "price                                                 \n",
       "0.0            13       13           13           13  \n",
       "1.0         91799    91799        91799        91799  \n",
       "2.0        401769   401769       401769       401769  \n",
       "3.0         41307    41307        41307        41307  \n",
       "4.0          5272     5272         5272         5272  "
      ]
     },
     "execution_count": 6,
     "metadata": {},
     "output_type": "execute_result"
    }
   ],
   "source": [
    "df['review_date'] = pd.to_datetime(df['review_date'])  \n",
    "df = df.loc[(df['review_date'] >= '2008-01-01') & (df['review_date'] <= '2020-01-01')]\n",
    "print(df.shape)\n",
    "get_groupby_price(df)"
   ]
  },
  {
   "cell_type": "code",
   "execution_count": 7,
   "id": "03dba7e8-a55b-4dc8-a988-eeb6be96c541",
   "metadata": {},
   "outputs": [
    {
     "data": {
      "text/html": [
       "<div>\n",
       "<style scoped>\n",
       "    .dataframe tbody tr th:only-of-type {\n",
       "        vertical-align: middle;\n",
       "    }\n",
       "\n",
       "    .dataframe tbody tr th {\n",
       "        vertical-align: top;\n",
       "    }\n",
       "\n",
       "    .dataframe thead th {\n",
       "        text-align: right;\n",
       "    }\n",
       "</style>\n",
       "<table border=\"1\" class=\"dataframe\">\n",
       "  <thead>\n",
       "    <tr style=\"text-align: right;\">\n",
       "      <th></th>\n",
       "      <th>review_id</th>\n",
       "      <th>user id</th>\n",
       "      <th>stars</th>\n",
       "      <th>review_date</th>\n",
       "      <th>text</th>\n",
       "      <th>name</th>\n",
       "      <th>categories</th>\n",
       "      <th>address</th>\n",
       "      <th>postal code</th>\n",
       "      <th>price</th>\n",
       "      <th>text_length</th>\n",
       "    </tr>\n",
       "    <tr>\n",
       "      <th>business_id</th>\n",
       "      <th></th>\n",
       "      <th></th>\n",
       "      <th></th>\n",
       "      <th></th>\n",
       "      <th></th>\n",
       "      <th></th>\n",
       "      <th></th>\n",
       "      <th></th>\n",
       "      <th></th>\n",
       "      <th></th>\n",
       "      <th></th>\n",
       "    </tr>\n",
       "  </thead>\n",
       "  <tbody>\n",
       "    <tr>\n",
       "      <th>-0JXXCMUpe29dQ-f6pG9OA</th>\n",
       "      <td>22</td>\n",
       "      <td>22</td>\n",
       "      <td>22</td>\n",
       "      <td>22</td>\n",
       "      <td>22</td>\n",
       "      <td>22</td>\n",
       "      <td>22</td>\n",
       "      <td>22</td>\n",
       "      <td>22</td>\n",
       "      <td>22</td>\n",
       "      <td>22</td>\n",
       "    </tr>\n",
       "    <tr>\n",
       "      <th>-0OWS89ebRdvzOQkjptyEw</th>\n",
       "      <td>31</td>\n",
       "      <td>31</td>\n",
       "      <td>31</td>\n",
       "      <td>31</td>\n",
       "      <td>31</td>\n",
       "      <td>31</td>\n",
       "      <td>31</td>\n",
       "      <td>31</td>\n",
       "      <td>31</td>\n",
       "      <td>31</td>\n",
       "      <td>31</td>\n",
       "    </tr>\n",
       "    <tr>\n",
       "      <th>-4P7VlKa9n-TwOP2_nWCtw</th>\n",
       "      <td>80</td>\n",
       "      <td>80</td>\n",
       "      <td>80</td>\n",
       "      <td>80</td>\n",
       "      <td>80</td>\n",
       "      <td>80</td>\n",
       "      <td>80</td>\n",
       "      <td>80</td>\n",
       "      <td>80</td>\n",
       "      <td>80</td>\n",
       "      <td>80</td>\n",
       "    </tr>\n",
       "    <tr>\n",
       "      <th>-5VyAi8GR34xmDAgFZTitg</th>\n",
       "      <td>425</td>\n",
       "      <td>425</td>\n",
       "      <td>425</td>\n",
       "      <td>425</td>\n",
       "      <td>425</td>\n",
       "      <td>425</td>\n",
       "      <td>425</td>\n",
       "      <td>425</td>\n",
       "      <td>425</td>\n",
       "      <td>425</td>\n",
       "      <td>425</td>\n",
       "    </tr>\n",
       "    <tr>\n",
       "      <th>-6VuqBXDDJXv8CRm_CM2qg</th>\n",
       "      <td>28</td>\n",
       "      <td>28</td>\n",
       "      <td>28</td>\n",
       "      <td>28</td>\n",
       "      <td>28</td>\n",
       "      <td>28</td>\n",
       "      <td>28</td>\n",
       "      <td>28</td>\n",
       "      <td>28</td>\n",
       "      <td>28</td>\n",
       "      <td>28</td>\n",
       "    </tr>\n",
       "    <tr>\n",
       "      <th>...</th>\n",
       "      <td>...</td>\n",
       "      <td>...</td>\n",
       "      <td>...</td>\n",
       "      <td>...</td>\n",
       "      <td>...</td>\n",
       "      <td>...</td>\n",
       "      <td>...</td>\n",
       "      <td>...</td>\n",
       "      <td>...</td>\n",
       "      <td>...</td>\n",
       "      <td>...</td>\n",
       "    </tr>\n",
       "    <tr>\n",
       "      <th>zy75CWA_oJYEhtXz8OOQsg</th>\n",
       "      <td>68</td>\n",
       "      <td>68</td>\n",
       "      <td>68</td>\n",
       "      <td>68</td>\n",
       "      <td>68</td>\n",
       "      <td>68</td>\n",
       "      <td>68</td>\n",
       "      <td>68</td>\n",
       "      <td>68</td>\n",
       "      <td>68</td>\n",
       "      <td>68</td>\n",
       "    </tr>\n",
       "    <tr>\n",
       "      <th>zyYNLYUVabUXkwq___Q3ug</th>\n",
       "      <td>27</td>\n",
       "      <td>27</td>\n",
       "      <td>27</td>\n",
       "      <td>27</td>\n",
       "      <td>27</td>\n",
       "      <td>27</td>\n",
       "      <td>27</td>\n",
       "      <td>27</td>\n",
       "      <td>27</td>\n",
       "      <td>27</td>\n",
       "      <td>27</td>\n",
       "    </tr>\n",
       "    <tr>\n",
       "      <th>zylYdVSB_KCGsB-Vunncsw</th>\n",
       "      <td>30</td>\n",
       "      <td>30</td>\n",
       "      <td>30</td>\n",
       "      <td>30</td>\n",
       "      <td>30</td>\n",
       "      <td>30</td>\n",
       "      <td>30</td>\n",
       "      <td>30</td>\n",
       "      <td>30</td>\n",
       "      <td>30</td>\n",
       "      <td>30</td>\n",
       "    </tr>\n",
       "    <tr>\n",
       "      <th>zzin1d1oHi81GuI0ufo1VA</th>\n",
       "      <td>613</td>\n",
       "      <td>613</td>\n",
       "      <td>613</td>\n",
       "      <td>613</td>\n",
       "      <td>613</td>\n",
       "      <td>613</td>\n",
       "      <td>613</td>\n",
       "      <td>613</td>\n",
       "      <td>613</td>\n",
       "      <td>613</td>\n",
       "      <td>613</td>\n",
       "    </tr>\n",
       "    <tr>\n",
       "      <th>zzlkjDG9Rv8Jn-vSolMgyw</th>\n",
       "      <td>117</td>\n",
       "      <td>117</td>\n",
       "      <td>117</td>\n",
       "      <td>117</td>\n",
       "      <td>117</td>\n",
       "      <td>117</td>\n",
       "      <td>117</td>\n",
       "      <td>117</td>\n",
       "      <td>117</td>\n",
       "      <td>117</td>\n",
       "      <td>117</td>\n",
       "    </tr>\n",
       "  </tbody>\n",
       "</table>\n",
       "<p>3668 rows × 11 columns</p>\n",
       "</div>"
      ],
      "text/plain": [
       "                        review_id  user id  stars  review_date  text  name  \\\n",
       "business_id                                                                  \n",
       "-0JXXCMUpe29dQ-f6pG9OA         22       22     22           22    22    22   \n",
       "-0OWS89ebRdvzOQkjptyEw         31       31     31           31    31    31   \n",
       "-4P7VlKa9n-TwOP2_nWCtw         80       80     80           80    80    80   \n",
       "-5VyAi8GR34xmDAgFZTitg        425      425    425          425   425   425   \n",
       "-6VuqBXDDJXv8CRm_CM2qg         28       28     28           28    28    28   \n",
       "...                           ...      ...    ...          ...   ...   ...   \n",
       "zy75CWA_oJYEhtXz8OOQsg         68       68     68           68    68    68   \n",
       "zyYNLYUVabUXkwq___Q3ug         27       27     27           27    27    27   \n",
       "zylYdVSB_KCGsB-Vunncsw         30       30     30           30    30    30   \n",
       "zzin1d1oHi81GuI0ufo1VA        613      613    613          613   613   613   \n",
       "zzlkjDG9Rv8Jn-vSolMgyw        117      117    117          117   117   117   \n",
       "\n",
       "                        categories  address  postal code  price  text_length  \n",
       "business_id                                                                   \n",
       "-0JXXCMUpe29dQ-f6pG9OA          22       22           22     22           22  \n",
       "-0OWS89ebRdvzOQkjptyEw          31       31           31     31           31  \n",
       "-4P7VlKa9n-TwOP2_nWCtw          80       80           80     80           80  \n",
       "-5VyAi8GR34xmDAgFZTitg         425      425          425    425          425  \n",
       "-6VuqBXDDJXv8CRm_CM2qg          28       28           28     28           28  \n",
       "...                            ...      ...          ...    ...          ...  \n",
       "zy75CWA_oJYEhtXz8OOQsg          68       68           68     68           68  \n",
       "zyYNLYUVabUXkwq___Q3ug          27       27           27     27           27  \n",
       "zylYdVSB_KCGsB-Vunncsw          30       30           30     30           30  \n",
       "zzin1d1oHi81GuI0ufo1VA         613      613          613    613          613  \n",
       "zzlkjDG9Rv8Jn-vSolMgyw         117      117          117    117          117  \n",
       "\n",
       "[3668 rows x 11 columns]"
      ]
     },
     "execution_count": 7,
     "metadata": {},
     "output_type": "execute_result"
    }
   ],
   "source": [
    "get_groupby_business(df)"
   ]
  },
  {
   "cell_type": "code",
   "execution_count": 8,
   "id": "10114378-76e9-4197-8e25-a81e1a8bca44",
   "metadata": {},
   "outputs": [
    {
     "name": "stdout",
     "output_type": "stream",
     "text": [
      "(462381, 12)\n"
     ]
    }
   ],
   "source": [
    "df = get_sup(df,100)\n",
    "print(df.shape)"
   ]
  },
  {
   "cell_type": "code",
   "execution_count": 9,
   "id": "e2b114d4-1e35-486a-86f5-4f63ac4f4868",
   "metadata": {},
   "outputs": [
    {
     "data": {
      "text/html": [
       "<div>\n",
       "<style scoped>\n",
       "    .dataframe tbody tr th:only-of-type {\n",
       "        vertical-align: middle;\n",
       "    }\n",
       "\n",
       "    .dataframe tbody tr th {\n",
       "        vertical-align: top;\n",
       "    }\n",
       "\n",
       "    .dataframe thead th {\n",
       "        text-align: right;\n",
       "    }\n",
       "</style>\n",
       "<table border=\"1\" class=\"dataframe\">\n",
       "  <thead>\n",
       "    <tr style=\"text-align: right;\">\n",
       "      <th></th>\n",
       "      <th>business_id</th>\n",
       "      <th>review_id</th>\n",
       "      <th>user id</th>\n",
       "      <th>stars</th>\n",
       "      <th>review_date</th>\n",
       "      <th>text</th>\n",
       "      <th>name</th>\n",
       "      <th>categories</th>\n",
       "      <th>address</th>\n",
       "      <th>postal code</th>\n",
       "      <th>text_length</th>\n",
       "    </tr>\n",
       "    <tr>\n",
       "      <th>price</th>\n",
       "      <th></th>\n",
       "      <th></th>\n",
       "      <th></th>\n",
       "      <th></th>\n",
       "      <th></th>\n",
       "      <th></th>\n",
       "      <th></th>\n",
       "      <th></th>\n",
       "      <th></th>\n",
       "      <th></th>\n",
       "      <th></th>\n",
       "    </tr>\n",
       "  </thead>\n",
       "  <tbody>\n",
       "    <tr>\n",
       "      <th>1.0</th>\n",
       "      <td>55375</td>\n",
       "      <td>55375</td>\n",
       "      <td>55375</td>\n",
       "      <td>55375</td>\n",
       "      <td>55375</td>\n",
       "      <td>55375</td>\n",
       "      <td>55375</td>\n",
       "      <td>55375</td>\n",
       "      <td>55375</td>\n",
       "      <td>55375</td>\n",
       "      <td>55375</td>\n",
       "    </tr>\n",
       "    <tr>\n",
       "      <th>2.0</th>\n",
       "      <td>364563</td>\n",
       "      <td>364563</td>\n",
       "      <td>364563</td>\n",
       "      <td>364563</td>\n",
       "      <td>364563</td>\n",
       "      <td>364563</td>\n",
       "      <td>364563</td>\n",
       "      <td>364563</td>\n",
       "      <td>364563</td>\n",
       "      <td>364563</td>\n",
       "      <td>364563</td>\n",
       "    </tr>\n",
       "    <tr>\n",
       "      <th>3.0</th>\n",
       "      <td>37669</td>\n",
       "      <td>37669</td>\n",
       "      <td>37669</td>\n",
       "      <td>37669</td>\n",
       "      <td>37669</td>\n",
       "      <td>37669</td>\n",
       "      <td>37669</td>\n",
       "      <td>37669</td>\n",
       "      <td>37669</td>\n",
       "      <td>37669</td>\n",
       "      <td>37669</td>\n",
       "    </tr>\n",
       "    <tr>\n",
       "      <th>4.0</th>\n",
       "      <td>4774</td>\n",
       "      <td>4774</td>\n",
       "      <td>4774</td>\n",
       "      <td>4774</td>\n",
       "      <td>4774</td>\n",
       "      <td>4774</td>\n",
       "      <td>4774</td>\n",
       "      <td>4774</td>\n",
       "      <td>4774</td>\n",
       "      <td>4774</td>\n",
       "      <td>4774</td>\n",
       "    </tr>\n",
       "  </tbody>\n",
       "</table>\n",
       "</div>"
      ],
      "text/plain": [
       "       business_id  review_id  user id   stars  review_date    text    name  \\\n",
       "price                                                                         \n",
       "1.0          55375      55375    55375   55375        55375   55375   55375   \n",
       "2.0         364563     364563   364563  364563       364563  364563  364563   \n",
       "3.0          37669      37669    37669   37669        37669   37669   37669   \n",
       "4.0           4774       4774     4774    4774         4774    4774    4774   \n",
       "\n",
       "       categories  address  postal code  text_length  \n",
       "price                                                 \n",
       "1.0         55375    55375        55375        55375  \n",
       "2.0        364563   364563       364563       364563  \n",
       "3.0         37669    37669        37669        37669  \n",
       "4.0          4774     4774         4774         4774  "
      ]
     },
     "execution_count": 9,
     "metadata": {},
     "output_type": "execute_result"
    }
   ],
   "source": [
    "get_groupby_price(df)"
   ]
  },
  {
   "cell_type": "code",
   "execution_count": 10,
   "id": "4bf00270-83e3-4888-adba-79822dab72d2",
   "metadata": {},
   "outputs": [
    {
     "data": {
      "text/html": [
       "<div>\n",
       "<style scoped>\n",
       "    .dataframe tbody tr th:only-of-type {\n",
       "        vertical-align: middle;\n",
       "    }\n",
       "\n",
       "    .dataframe tbody tr th {\n",
       "        vertical-align: top;\n",
       "    }\n",
       "\n",
       "    .dataframe thead th {\n",
       "        text-align: right;\n",
       "    }\n",
       "</style>\n",
       "<table border=\"1\" class=\"dataframe\">\n",
       "  <thead>\n",
       "    <tr style=\"text-align: right;\">\n",
       "      <th></th>\n",
       "      <th>review_id</th>\n",
       "      <th>user id</th>\n",
       "      <th>stars</th>\n",
       "      <th>review_date</th>\n",
       "      <th>text</th>\n",
       "      <th>name</th>\n",
       "      <th>categories</th>\n",
       "      <th>address</th>\n",
       "      <th>postal code</th>\n",
       "      <th>price</th>\n",
       "      <th>text_length</th>\n",
       "    </tr>\n",
       "    <tr>\n",
       "      <th>business_id</th>\n",
       "      <th></th>\n",
       "      <th></th>\n",
       "      <th></th>\n",
       "      <th></th>\n",
       "      <th></th>\n",
       "      <th></th>\n",
       "      <th></th>\n",
       "      <th></th>\n",
       "      <th></th>\n",
       "      <th></th>\n",
       "      <th></th>\n",
       "    </tr>\n",
       "  </thead>\n",
       "  <tbody>\n",
       "    <tr>\n",
       "      <th>-5VyAi8GR34xmDAgFZTitg</th>\n",
       "      <td>425</td>\n",
       "      <td>425</td>\n",
       "      <td>425</td>\n",
       "      <td>425</td>\n",
       "      <td>425</td>\n",
       "      <td>425</td>\n",
       "      <td>425</td>\n",
       "      <td>425</td>\n",
       "      <td>425</td>\n",
       "      <td>425</td>\n",
       "      <td>425</td>\n",
       "    </tr>\n",
       "    <tr>\n",
       "      <th>-AIX1rem_OF-9Et3p_K9Gg</th>\n",
       "      <td>310</td>\n",
       "      <td>310</td>\n",
       "      <td>310</td>\n",
       "      <td>310</td>\n",
       "      <td>310</td>\n",
       "      <td>310</td>\n",
       "      <td>310</td>\n",
       "      <td>310</td>\n",
       "      <td>310</td>\n",
       "      <td>310</td>\n",
       "      <td>310</td>\n",
       "    </tr>\n",
       "    <tr>\n",
       "      <th>-CHazLwo2j2G8gWEZN53hA</th>\n",
       "      <td>755</td>\n",
       "      <td>755</td>\n",
       "      <td>755</td>\n",
       "      <td>755</td>\n",
       "      <td>755</td>\n",
       "      <td>755</td>\n",
       "      <td>755</td>\n",
       "      <td>755</td>\n",
       "      <td>755</td>\n",
       "      <td>755</td>\n",
       "      <td>755</td>\n",
       "    </tr>\n",
       "    <tr>\n",
       "      <th>-DISJqPp4zcDVw7R-MOjog</th>\n",
       "      <td>186</td>\n",
       "      <td>186</td>\n",
       "      <td>186</td>\n",
       "      <td>186</td>\n",
       "      <td>186</td>\n",
       "      <td>186</td>\n",
       "      <td>186</td>\n",
       "      <td>186</td>\n",
       "      <td>186</td>\n",
       "      <td>186</td>\n",
       "      <td>186</td>\n",
       "    </tr>\n",
       "    <tr>\n",
       "      <th>-EzfZm6rTohZdD9tfQaMyA</th>\n",
       "      <td>156</td>\n",
       "      <td>156</td>\n",
       "      <td>156</td>\n",
       "      <td>156</td>\n",
       "      <td>156</td>\n",
       "      <td>156</td>\n",
       "      <td>156</td>\n",
       "      <td>156</td>\n",
       "      <td>156</td>\n",
       "      <td>156</td>\n",
       "      <td>156</td>\n",
       "    </tr>\n",
       "    <tr>\n",
       "      <th>...</th>\n",
       "      <td>...</td>\n",
       "      <td>...</td>\n",
       "      <td>...</td>\n",
       "      <td>...</td>\n",
       "      <td>...</td>\n",
       "      <td>...</td>\n",
       "      <td>...</td>\n",
       "      <td>...</td>\n",
       "      <td>...</td>\n",
       "      <td>...</td>\n",
       "      <td>...</td>\n",
       "    </tr>\n",
       "    <tr>\n",
       "      <th>zpKvO2SOXHV9cxvBm6q4Fg</th>\n",
       "      <td>203</td>\n",
       "      <td>203</td>\n",
       "      <td>203</td>\n",
       "      <td>203</td>\n",
       "      <td>203</td>\n",
       "      <td>203</td>\n",
       "      <td>203</td>\n",
       "      <td>203</td>\n",
       "      <td>203</td>\n",
       "      <td>203</td>\n",
       "      <td>203</td>\n",
       "    </tr>\n",
       "    <tr>\n",
       "      <th>zpOcXfa6bbW6AG5L60UL_A</th>\n",
       "      <td>202</td>\n",
       "      <td>202</td>\n",
       "      <td>202</td>\n",
       "      <td>202</td>\n",
       "      <td>202</td>\n",
       "      <td>202</td>\n",
       "      <td>202</td>\n",
       "      <td>202</td>\n",
       "      <td>202</td>\n",
       "      <td>202</td>\n",
       "      <td>202</td>\n",
       "    </tr>\n",
       "    <tr>\n",
       "      <th>ztY4uPNUTWMN9LT3L5mD3Q</th>\n",
       "      <td>761</td>\n",
       "      <td>761</td>\n",
       "      <td>761</td>\n",
       "      <td>761</td>\n",
       "      <td>761</td>\n",
       "      <td>761</td>\n",
       "      <td>761</td>\n",
       "      <td>761</td>\n",
       "      <td>761</td>\n",
       "      <td>761</td>\n",
       "      <td>761</td>\n",
       "    </tr>\n",
       "    <tr>\n",
       "      <th>zzin1d1oHi81GuI0ufo1VA</th>\n",
       "      <td>613</td>\n",
       "      <td>613</td>\n",
       "      <td>613</td>\n",
       "      <td>613</td>\n",
       "      <td>613</td>\n",
       "      <td>613</td>\n",
       "      <td>613</td>\n",
       "      <td>613</td>\n",
       "      <td>613</td>\n",
       "      <td>613</td>\n",
       "      <td>613</td>\n",
       "    </tr>\n",
       "    <tr>\n",
       "      <th>zzlkjDG9Rv8Jn-vSolMgyw</th>\n",
       "      <td>117</td>\n",
       "      <td>117</td>\n",
       "      <td>117</td>\n",
       "      <td>117</td>\n",
       "      <td>117</td>\n",
       "      <td>117</td>\n",
       "      <td>117</td>\n",
       "      <td>117</td>\n",
       "      <td>117</td>\n",
       "      <td>117</td>\n",
       "      <td>117</td>\n",
       "    </tr>\n",
       "  </tbody>\n",
       "</table>\n",
       "<p>1404 rows × 11 columns</p>\n",
       "</div>"
      ],
      "text/plain": [
       "                        review_id  user id  stars  review_date  text  name  \\\n",
       "business_id                                                                  \n",
       "-5VyAi8GR34xmDAgFZTitg        425      425    425          425   425   425   \n",
       "-AIX1rem_OF-9Et3p_K9Gg        310      310    310          310   310   310   \n",
       "-CHazLwo2j2G8gWEZN53hA        755      755    755          755   755   755   \n",
       "-DISJqPp4zcDVw7R-MOjog        186      186    186          186   186   186   \n",
       "-EzfZm6rTohZdD9tfQaMyA        156      156    156          156   156   156   \n",
       "...                           ...      ...    ...          ...   ...   ...   \n",
       "zpKvO2SOXHV9cxvBm6q4Fg        203      203    203          203   203   203   \n",
       "zpOcXfa6bbW6AG5L60UL_A        202      202    202          202   202   202   \n",
       "ztY4uPNUTWMN9LT3L5mD3Q        761      761    761          761   761   761   \n",
       "zzin1d1oHi81GuI0ufo1VA        613      613    613          613   613   613   \n",
       "zzlkjDG9Rv8Jn-vSolMgyw        117      117    117          117   117   117   \n",
       "\n",
       "                        categories  address  postal code  price  text_length  \n",
       "business_id                                                                   \n",
       "-5VyAi8GR34xmDAgFZTitg         425      425          425    425          425  \n",
       "-AIX1rem_OF-9Et3p_K9Gg         310      310          310    310          310  \n",
       "-CHazLwo2j2G8gWEZN53hA         755      755          755    755          755  \n",
       "-DISJqPp4zcDVw7R-MOjog         186      186          186    186          186  \n",
       "-EzfZm6rTohZdD9tfQaMyA         156      156          156    156          156  \n",
       "...                            ...      ...          ...    ...          ...  \n",
       "zpKvO2SOXHV9cxvBm6q4Fg         203      203          203    203          203  \n",
       "zpOcXfa6bbW6AG5L60UL_A         202      202          202    202          202  \n",
       "ztY4uPNUTWMN9LT3L5mD3Q         761      761          761    761          761  \n",
       "zzin1d1oHi81GuI0ufo1VA         613      613          613    613          613  \n",
       "zzlkjDG9Rv8Jn-vSolMgyw         117      117          117    117          117  \n",
       "\n",
       "[1404 rows x 11 columns]"
      ]
     },
     "execution_count": 10,
     "metadata": {},
     "output_type": "execute_result"
    }
   ],
   "source": [
    "get_groupby_business(df)"
   ]
  },
  {
   "cell_type": "markdown",
   "id": "ff59dfdd-ea2a-4b50-9aeb-50869f803d35",
   "metadata": {},
   "source": [
    "## Resampling"
   ]
  },
  {
   "cell_type": "code",
   "execution_count": 11,
   "id": "9f4edc05-74e9-4dfe-8128-21e449f71a97",
   "metadata": {},
   "outputs": [],
   "source": [
    "# df_p = df.groupby('business_id')\n",
    "# df = df_p.apply(lambda x: x.sample(df_p.size().min(), replace=True, random_state=1).reset_index(drop=True)).reset_index(drop=True)"
   ]
  },
  {
   "cell_type": "markdown",
   "id": "167fc82c-e110-4112-aad3-595557fdffd3",
   "metadata": {},
   "source": [
    "## Weight loss"
   ]
  },
  {
   "cell_type": "code",
   "execution_count": 12,
   "id": "05bef7c2-da63-49bc-a3da-274c7394c035",
   "metadata": {},
   "outputs": [],
   "source": [
    "nb_resto = get_groupby_business(df)['review_id'].tolist()"
   ]
  },
  {
   "cell_type": "code",
   "execution_count": 13,
   "id": "64882fac-52e4-4529-b7f2-564348aa7602",
   "metadata": {},
   "outputs": [],
   "source": [
    "MAX_NB_RESTO = max(nb_resto)"
   ]
  },
  {
   "cell_type": "code",
   "execution_count": 14,
   "id": "9708e8e2-d5f1-46e4-a597-d84e048eca91",
   "metadata": {},
   "outputs": [
    {
     "name": "stdout",
     "output_type": "stream",
     "text": [
      "[8.76, 12.009677419354839, 4.9311258278145695, 20.016129032258064, 23.865384615384617, 16.400881057268723, 8.093478260869565, 16.846153846153847, 6.894444444444445, 8.992753623188406, 18.25, 25.155405405405407, 15.384297520661157, 18.25, 16.32894736842105, 12.882352941176471, 10.516949152542374, 6.083333333333333, 9.169950738916256, 10.008064516129032, 32.94690265486726, 6.163907284768212, 6.589380530973451, 13.9438202247191, 22.293413173652695, 20.683333333333334, 32.6578947368421, 8.4421768707483, 16.77027027027027, 19.29015544041451, 29.547619047619047, 5.640909090909091, 14.155893536121672, 10.341666666666667, 22.427710843373493, 32.94690265486726, 7.989270386266094, 14.049056603773584, 20.915730337078653, 36.14563106796116, 22.427710843373493, 10.791304347826086, 21.033898305084747, 23.124223602484474, 3.9989258861439314, 10.982300884955752, 11.74447949526814, 6.818681318681318, 11.70754716981132, 12.620338983050848, 2.8638461538461537, 25.675862068965518, 3.155084745762712, 14.773809523809524, 23.563291139240505, 8.843230403800476, 9.645077720207254, 8.12882096069869, 5.419213973799127, 6.881700554528651, 5.615384615384615, 12.009677419354839, 29.784, 12.927083333333334, 31.82051282051282, 12.620338983050848, 21.033898305084747, 22.293413173652695, 10.228021978021978, 12.620338983050848, 7.372277227722773, 21.033898305084747, 23.124223602484474, 23.41509433962264, 16.116883116883116, 22.427710843373493, 6.856353591160221, 32.6578947368421, 4.84765625, 12.837931034482759, 30.26829268292683, 15.258196721311476, 12.24671052631579, 18.52238805970149, 15.708860759493671, 6.856353591160221, 8.006451612903225, 20.456043956043956, 34.15596330275229, 33.845454545454544, 9.401515151515152, 9.03640776699029, 34.15596330275229, 35.79807692307692, 7.6921487603305785, 7.187258687258687, 36.86138613861386, 24.986577181208055, 2.534377127297481, 14.951807228915662, 34.47222222222222, 27.57777777777778, 13.78888888888889, 10.313019390581717, 16.620535714285715, 11.146706586826348, 5.170833333333333, 30.768595041322314, 37.23, 27.175182481751825, 17.397196261682243, 2.513841998649561, 6.672043010752688, 34.794392523364486, 24.986577181208055, 6.174129353233831, 20.233695652173914, 20.915730337078653, 29.0859375, 16.04741379310345, 6.474782608695652, 20.683333333333334, 15.19591836734694, 4.086717892425906, 35.12264150943396, 13.15547703180212, 32.94690265486726, 9.823218997361478, 35.79807692307692, 20.798882681564248, 9.981233243967829, 23.865384615384617, 12.535353535353535, 4.937665782493369, 16.69506726457399, 34.15596330275229, 19.594736842105263, 8.310267857142858, 37.23, 26.404255319148938, 8.9066985645933, 11.856687898089172, 18.160975609756097, 30.26829268292683, 11.350609756097562, 26.218309859154928, 4.937665782493369, 7.567073170731708, 25.155405405405407, 30.26829268292683, 6.531578947368421, 34.794392523364486, 15.448132780082988, 15.5125, 2.874903474903475, 13.538181818181819, 10.284530386740332, 23.865384615384617, 8.928057553956835, 36.5, 19.190721649484537, 28.638461538461538, 13.017482517482517, 6.342419080068143, 25.675862068965518, 31.82051282051282, 9.147420147420148, 12.451505016722408, 34.15596330275229, 29.784, 15.258196721311476, 19.29015544041451, 22.427710843373493, 5.114010989010989, 24.175324675324674, 10.667621776504298, 16.69506726457399, 4.957390146471371, 3.2261698440207973, 6.143564356435643, 14.715415019762846, 24.175324675324674, 36.14563106796116, 18.43069306930693, 10.885964912280702, 27.175182481751825, 19.6984126984127, 8.385135135135135, 9.62015503875969, 21.033898305084747, 8.366292134831461, 6.806215722120658, 2.32252027448534, 21.15340909090909, 17.644549763033176, 30.516393442622952, 25.155405405405407, 9.875331564986737, 10.428571428571429, 29.0859375, 6.520140105078809, 35.457142857142856, 12.24671052631579, 27.78358208955224, 8.404063205417607, 2.1912889935256032, 34.47222222222222, 11.634375, 17.397196261682243, 12.24671052631579, 6.49738219895288, 21.771929824561404, 10.313019390581717, 9.3075, 29.547619047619047, 5.295874822190612, 18.615, 4.584975369458128, 25.155405405405407, 21.15340909090909, 9.954545454545455, 6.407917383820998, 36.14563106796116, 4.601977750309024, 11.113432835820895, 11.81904761904762, 5.975922953451043, 8.538990825688073, 13.15547703180212, 33.845454545454544, 26.97826086956522, 13.392086330935252, 7.6447638603696095, 9.425316455696203, 18.994897959183675, 21.274285714285714, 30.26829268292683, 7.401590457256461, 7.871035940803383, 15.384297520661157, 14.102272727272727, 19.594736842105263, 7.871035940803383, 3.4440333024976875, 25.854166666666668, 8.218543046357615, 23.41509433962264, 6.520140105078809, 9.90159574468085, 32.0948275862069, 8.347533632286995, 25.675862068965518, 29.0859375, 27.57777777777778, 14.715415019762846, 34.794392523364486, 23.26875, 6.672043010752688, 33.24107142857143, 24.175324675324674, 31.82051282051282, 20.016129032258064, 10.546742209631729, 17.077981651376145, 34.15596330275229, 31.82051282051282, 7.6921487603305785, 9.954545454545455, 1.8169838945827232, 16.18695652173913, 24.333333333333332, 27.175182481751825, 4.630597014925373, 37.23, 9.546153846153846, 22.701219512195124, 14.319230769230769, 23.865384615384617, 16.18695652173913, 3.0219155844155843, 19.90909090909091, 36.14563106796116, 8.347533632286995, 4.5962962962962965, 33.845454545454544, 8.558620689655172, 12.577702702702704, 20.915730337078653, 26.784172661870503, 14.264367816091953, 7.6921487603305785, 12.706484641638225, 23.713375796178344, 12.087662337662337, 8.273333333333333, 3.6897918731417243, 2.546511627906977, 7.372277227722773, 14.832669322709163, 15.384297520661157, 21.033898305084747, 16.846153846153847, 34.47222222222222, 16.04741379310345, 9.74607329842932, 21.6453488372093, 32.6578947368421, 19.390625, 12.327814569536423, 7.80503144654088, 23.563291139240505, 29.547619047619047, 27.375, 5.881516587677726, 20.798882681564248, 25.675862068965518, 7.446, 22.02958579881657, 21.9, 33.54054054054054, 14.049056603773584, 20.233695652173914, 33.24107142857143, 32.6578947368421, 14.319230769230769, 16.25764192139738, 34.794392523364486, 29.547619047619047, 30.768595041322314, 6.299492385786802, 13.202127659574469, 1.2083739045764361, 11.971061093247588, 11.598130841121495, 3.708167330677291, 5.295874822190612, 21.15340909090909, 32.94690265486726, 8.461363636363636, 24.986577181208055, 19.90909090909091, 5.128099173553719, 7.314341846758349, 36.5, 26.784172661870503, 5.985530546623794, 28.86046511627907, 24.49342105263158, 21.6453488372093, 14.430232558139535, 22.701219512195124, 18.803030303030305, 27.992481203007518, 19.8031914893617, 31.025, 15.19591836734694, 18.70854271356784, 37.23, 9.147420147420148, 33.54054054054054, 4.9772727272727275, 21.9, 21.033898305084747, 26.59285714285714, 5.251057827926657, 31.82051282051282, 18.160975609756097, 19.6984126984127, 20.456043956043956, 12.287128712871286, 4.334109429569266, 13.109154929577464, 7.887711864406779, 7.59795918367347, 5.565022421524664, 35.457142857142856, 36.14563106796116, 32.6578947368421, 26.034965034965033, 29.547619047619047, 29.547619047619047, 29.31496062992126, 36.86138613861386, 26.404255319148938, 18.615, 24.175324675324674, 23.563291139240505, 18.07281553398058, 26.034965034965033, 7.8544303797468356, 7.955128205128205, 36.5, 16.846153846153847, 24.333333333333332, 1.1659880989664893, 34.15596330275229, 7.401590457256461, 6.624555160142349, 12.368770764119601, 10.313019390581717, 32.6578947368421, 8.4421768707483, 12.577702702702704, 14.155893536121672, 19.8031914893617, 19.49214659685864, 31.285714285714285, 32.0948275862069, 6.57773851590106, 8.480637813211844, 36.86138613861386, 20.233695652173914, 24.49342105263158, 17.985507246376812, 17.56132075471698, 12.97212543554007, 12.048543689320388, 16.546666666666667, 13.48913043478261, 29.547619047619047, 10.062162162162162, 5.790046656298601, 17.56132075471698, 20.233695652173914, 5.710122699386503, 11.281818181818181, 20.34426229508197, 7.03780718336484, 36.5, 13.840148698884759, 36.86138613861386, 11.455384615384615, 4.007534983853606, 13.440433212996389, 34.47222222222222, 21.6453488372093, 10.284530386740332, 18.803030303030305, 11.047477744807122, 12.493288590604028, 14.832669322709163, 6.385934819897084, 36.5, 33.845454545454544, 13.9438202247191, 22.98148148148148, 25.155405405405407, 24.49342105263158, 28.419847328244273, 18.803030303030305, 26.59285714285714, 23.26875, 30.26829268292683, 14.951807228915662, 12.048543689320388, 4.84765625, 17.397196261682243, 11.213855421686747, 24.175324675324674, 27.992481203007518, 3.0048426150121066, 23.124223602484474, 27.992481203007518, 27.992481203007518, 7.551724137931035, 35.79807692307692, 8.310267857142858, 8.638051044083527, 14.715415019762846, 26.784172661870503, 32.0948275862069, 21.033898305084747, 36.86138613861386, 10.313019390581717, 33.845454545454544, 13.587591240875913, 17.077981651376145, 26.404255319148938, 24.986577181208055, 26.034965034965033, 13.587591240875913, 13.587591240875913, 35.12264150943396, 23.124223602484474, 23.563291139240505, 8.9066985645933, 8.843230403800476, 8.2549889135255, 8.006451612903225, 27.57777777777778, 27.78358208955224, 6.636363636363637, 15.577405857740585, 19.594736842105263, 6.9981203007518795, 11.894568690095847, 18.615, 18.994897959183675, 10.637142857142857, 10.760115606936417, 10.606837606837606, 36.5, 18.994897959183675, 10.062162162162162, 16.77027027027027, 26.034965034965033, 26.218309859154928, 22.427710843373493, 19.8031914893617, 22.02958579881657, 7.6447638603696095, 17.47887323943662, 28.638461538461538, 31.82051282051282, 3.012135922330097, 26.034965034965033, 3.418732782369146, 34.47222222222222, 5.918918918918919, 10.035040431266847, 17.077981651376145, 20.016129032258064, 5.170833333333333, 26.034965034965033, 6.94589552238806, 28.86046511627907, 11.213855421686747, 23.563291139240505, 34.794392523364486, 6.7690909090909095, 34.47222222222222, 16.400881057268723, 22.98148148148148, 32.6578947368421, 13.9438202247191, 11.047477744807122, 13.15547703180212, 10.606837606837606, 36.14563106796116, 14.155893536121672, 19.29015544041451, 19.90909090909091, 22.84049079754601, 7.724066390041494, 7.091428571428572, 19.29015544041451, 22.701219512195124, 13.202127659574469, 12.287128712871286, 13.9438202247191, 13.6875, 35.457142857142856, 33.845454545454544, 16.922727272727272, 26.218309859154928, 15.978540772532188, 29.0859375, 27.78358208955224, 13.587591240875913, 14.264367816091953, 18.339901477832512, 34.47222222222222, 5.1565096952908585, 18.615, 28.86046511627907, 12.927083333333334, 22.427710843373493, 18.615, 20.456043956043956, 8.718969555035128, 12.66326530612245, 17.23611111111111, 33.845454545454544, 15.072874493927126, 28.86046511627907, 9.67012987012987, 16.546666666666667, 26.034965034965033, 13.15547703180212, 6.894444444444445, 16.620535714285715, 7.921276595744681, 32.94690265486726, 10.370473537604457, 17.56132075471698, 31.550847457627118, 14.155893536121672, 27.992481203007518, 18.25, 3.1524132091447927, 15.91025641025641, 22.701219512195124, 14.715415019762846, 21.033898305084747, 9.797368421052632, 28.204545454545453, 21.396551724137932, 18.160975609756097, 31.550847457627118, 11.562111801242237, 24.175324675324674, 6.407917383820998, 7.401590457256461, 27.57777777777778, 19.49214659685864, 12.048543689320388, 18.52238805970149, 24.019354838709678, 26.784172661870503, 15.978540772532188, 30.516393442622952, 24.82, 24.986577181208055, 8.843230403800476, 7.446, 33.24107142857143, 20.124324324324323, 10.313019390581717, 22.293413173652695, 2.125, 16.32894736842105, 36.86138613861386, 15.978540772532188, 5.581709145427286, 13.29642857142857, 2.350378787878788, 22.98148148148148, 28.638461538461538, 8.698598130841122, 36.86138613861386, 4.6248447204968945, 25.854166666666668, 10.487323943661972, 10.399441340782124, 7.314341846758349, 18.160975609756097, 8.678321678321678, 23.865384615384617, 12.41, 9.90159574468085, 20.915730337078653, 13.48913043478261, 14.951807228915662, 8.578341013824884, 4.274397244546498, 9.546153846153846, 6.353242320819112, 19.390625, 9.238213399503723, 2.226674641148325, 17.8133971291866, 15.775423728813559, 26.784172661870503, 21.396551724137932, 8.538990825688073, 12.577702702702704, 15.978540772532188, 24.175324675324674, 7.104961832061068, 15.012096774193548, 5.606927710843373, 10.228021978021978, 10.256198347107437, 23.563291139240505, 14.430232558139535, 2.67264895908112, 28.204545454545453, 1.9553571428571428, 28.419847328244273, 21.771929824561404, 22.02958579881657, 12.20655737704918, 6.163907284768212, 26.97826086956522, 7.132183908045977, 7.989270386266094, 9.645077720207254, 11.49074074074074, 6.84375, 17.89903846153846, 13.15547703180212, 33.845454545454544, 8.598152424942263, 23.124223602484474, 1.1994201030927836, 8.146608315098469, 17.8133971291866, 6.624555160142349, 29.31496062992126, 10.035040431266847, 17.644549763033176, 17.728571428571428, 17.0, 23.563291139240505, 27.57777777777778, 35.79807692307692, 10.95, 16.846153846153847, 27.78358208955224, 34.794392523364486, 9.645077720207254, 6.818681318681318, 25.675862068965518, 7.75625, 28.638461538461538, 22.427710843373493, 17.15668202764977, 34.794392523364486, 11.932692307692308, 7.446, 10.172131147540984, 29.31496062992126, 26.784172661870503, 23.41509433962264, 5.710122699386503, 22.02958579881657, 6.10327868852459, 18.994897959183675, 12.327814569536423, 35.457142857142856, 8.822274881516588, 7.2011605415860735, 21.274285714285714, 10.576704545454545, 8.07592190889371, 24.82, 15.072874493927126, 30.768595041322314, 12.927083333333334, 24.82, 34.15596330275229, 15.134146341463415, 34.15596330275229, 21.771929824561404, 26.218309859154928, 10.341666666666667, 32.37391304347826, 17.15668202764977, 29.784, 11.350609756097562, 30.024193548387096, 8.698598130841122, 26.218309859154928, 1.426983518589498, 8.461363636363636, 12.368770764119601, 35.12264150943396, 14.155893536121672, 5.515555555555555, 24.49342105263158, 8.480637813211844, 8.366292134831461, 28.638461538461538, 10.284530386740332, 14.155893536121672, 8.461363636363636, 12.087662337662337, 6.660107334525939, 20.34426229508197, 5.606927710843373, 31.025, 17.077981651376145, 15.320987654320987, 13.017482517482517, 13.637362637362637, 21.274285714285714, 6.257142857142857, 32.0948275862069, 34.794392523364486, 19.90909090909091, 10.14441416893733, 31.285714285714285, 32.37391304347826, 9.080487804878048, 15.320987654320987, 6.215358931552587, 21.6453488372093, 16.25764192139738, 30.26829268292683, 13.29642857142857, 36.14563106796116, 6.225752508361204, 21.771929824561404, 9.35427135678392, 14.209923664122137, 23.124223602484474, 16.18695652173913, 20.456043956043956, 15.012096774193548, 2.2094955489614243, 13.587591240875913, 28.638461538461538, 6.153719008264463, 9.192592592592593, 11.316109422492401, 27.57777777777778, 32.37391304347826, 5.411337209302325, 34.15596330275229, 30.768595041322314, 35.79807692307692, 17.728571428571428, 7.821428571428571, 8.8854415274463, 16.32894736842105, 8.538990825688073, 35.12264150943396, 34.15596330275229, 17.077981651376145, 8.093478260869565, 5.251057827926657, 32.94690265486726, 19.90909090909091, 15.072874493927126, 16.18695652173913, 5.799065420560748, 11.281818181818181, 27.992481203007518, 5.149377593360996, 12.20655737704918, 19.6984126984127, 9.797368421052632, 9.28428927680798, 17.644549763033176, 11.18018018018018, 28.638461538461538, 31.025, 3.5356125356125356, 27.375, 3.453617810760668, 4.718631178707224, 30.26829268292683, 22.98148148148148, 28.86046511627907, 35.12264150943396, 36.86138613861386, 2.886046511627907, 13.9438202247191, 35.457142857142856, 8.461363636363636, 13.017482517482517, 8.423076923076923, 27.375, 36.5, 6.601063829787234, 33.24107142857143, 23.865384615384617, 9.595360824742269, 7.75625, 9.720626631853786, 10.008064516129032, 34.15596330275229, 17.644549763033176, 31.82051282051282, 17.89903846153846, 12.368770764119601, 33.54054054054054, 11.526315789473685, 33.54054054054054, 3.0717821782178216, 10.982300884955752, 23.124223602484474, 21.033898305084747, 11.894568690095847, 3.914826498422713, 6.0932896890343695, 8.578341013824884, 29.0859375, 5.692660550458716, 5.540178571428571, 14.715415019762846, 16.922727272727272, 26.784172661870503, 37.23, 17.0, 28.86046511627907, 32.0948275862069, 24.333333333333332, 17.985507246376812, 25.5, 27.78358208955224, 34.794392523364486, 19.90909090909091, 13.738007380073801, 4.828793774319066, 25.854166666666668, 20.233695652173914, 14.54296875, 19.8031914893617, 17.077981651376145, 22.98148148148148, 20.456043956043956, 6.696043165467626, 16.116883116883116, 21.033898305084747, 16.69506726457399, 12.882352941176471, 13.587591240875913, 27.375, 4.540243902439024, 34.794392523364486, 23.124223602484474, 13.063157894736841, 17.23611111111111, 3.502351834430856, 25.3265306122449, 14.951807228915662, 17.15668202764977, 37.23, 8.9066985645933, 25.854166666666668, 7.613496932515337, 29.784, 13.440433212996389, 17.23611111111111, 22.701219512195124, 21.6453488372093, 29.0859375, 31.82051282051282, 30.516393442622952, 4.773076923076923, 24.986577181208055, 3.9438559322033897, 5.937799043062201, 11.932692307692308, 28.86046511627907, 27.992481203007518, 12.24671052631579, 32.0948275862069, 12.577702702702704, 33.845454545454544, 21.274285714285714, 22.427710843373493, 12.837931034482759, 34.794392523364486, 1.4850418827283607, 32.6578947368421, 26.59285714285714, 37.23, 7.6921487603305785, 9.954545454545455, 27.175182481751825, 11.971061093247588, 9.102689486552567, 30.768595041322314, 5.236286919831223, 32.94690265486726, 23.124223602484474, 2.105769230769231, 24.82, 22.02958579881657, 31.550847457627118, 23.26875, 13.637362637362637, 35.12264150943396, 6.589380530973451, 26.59285714285714, 28.86046511627907, 19.594736842105263, 11.080357142857142, 23.124223602484474, 12.287128712871286, 15.842553191489362, 23.41509433962264, 6.01453957996769, 22.84049079754601, 13.78888888888889, 18.52238805970149, 23.26875, 25.854166666666668, 6.9981203007518795, 21.520231213872833, 21.274285714285714, 3.4472222222222224, 25.675862068965518, 26.218309859154928, 23.865384615384617, 7.708074534161491, 11.213855421686747, 6.143564356435643, 17.316279069767443, 14.209923664122137, 17.985507246376812, 32.6578947368421, 30.516393442622952, 16.620535714285715, 7.506048387096774, 10.729106628242075, 35.79807692307692, 30.26829268292683, 5.466960352422907, 31.82051282051282, 5.3568345323741005, 5.918918918918919, 35.457142857142856, 8.94951923076923, 12.41, 23.563291139240505, 23.124223602484474, 17.985507246376812, 4.898684210526316, 12.75, 28.638461538461538, 20.915730337078653, 18.803030303030305, 22.701219512195124, 5.87223974763407, 31.025, 8.2549889135255, 19.190721649484537, 28.419847328244273, 25.155405405405407, 10.062162162162162, 19.6984126984127, 24.986577181208055, 35.79807692307692, 3.5255681818181817, 10.089430894308943, 36.14563106796116, 2.326875, 11.113432835820895, 34.15596330275229, 3.2976085031000886, 28.638461538461538, 3.354054054054054, 30.516393442622952, 15.642857142857142, 26.59285714285714, 12.97212543554007, 4.584975369458128, 13.344086021505376, 21.6453488372093, 15.072874493927126, 30.516393442622952, 23.26875, 14.773809523809524, 11.562111801242237, 8.658139534883722, 12.882352941176471, 28.86046511627907, 7.904458598726115, 37.23, 19.49214659685864, 3.6110572259941804, 13.48913043478261, 25.3265306122449, 31.550847457627118, 17.397196261682243, 3.7796954314720814, 5.310984308131241, 13.538181818181819, 23.41509433962264, 20.124324324324323, 8.461363636363636, 28.419847328244273, 10.035040431266847, 6.342419080068143, 7.989270386266094, 3.715568862275449, 18.615, 29.784, 18.803030303030305, 9.6953125, 17.8133971291866, 18.615, 17.23611111111111, 7.821428571428571, 19.190721649484537, 19.594736842105263, 7.821428571428571, 22.293413173652695, 3.9690831556503197, 22.84049079754601, 9.03640776699029, 19.29015544041451, 28.419847328244273, 6.756805807622505, 20.34426229508197, 5.142265193370166, 34.15596330275229, 27.175182481751825, 13.29642857142857, 31.550847457627118, 27.57777777777778, 9.6953125, 17.985507246376812, 8.76, 24.175324675324674, 14.155893536121672, 13.587591240875913, 29.784, 25.3265306122449, 17.89903846153846, 24.655629139072847, 27.175182481751825, 27.992481203007518, 36.86138613861386, 6.732368896925859, 29.0859375, 11.18018018018018, 8.310267857142858, 4.113812154696133, 7.629098360655738, 19.6984126984127, 18.43069306930693, 12.287128712871286, 22.293413173652695, 17.15668202764977, 17.077981651376145, 15.19591836734694, 13.538181818181819, 32.94690265486726, 20.798882681564248, 3.9989258861439314, 26.034965034965033, 12.287128712871286, 19.6984126984127, 21.15340909090909, 24.333333333333332, 13.392086330935252, 15.258196721311476, 14.430232558139535, 9.645077720207254, 36.86138613861386, 26.59285714285714, 28.638461538461538, 15.91025641025641, 5.435036496350365, 25.155405405405407, 34.794392523364486, 26.404255319148938, 22.293413173652695, 17.47887323943662, 5.835423197492163, 16.546666666666667, 22.98148148148148, 25.3265306122449, 3.2657894736842104, 15.91025641025641, 15.012096774193548, 17.397196261682243, 32.0948275862069, 13.587591240875913, 10.760115606936417, 35.79807692307692, 24.82, 24.82, 24.986577181208055, 34.15596330275229, 15.384297520661157, 6.84375, 16.116883116883116, 27.78358208955224, 21.274285714285714, 4.230681818181818, 11.74447949526814, 6.083333333333333, 20.569060773480665, 15.012096774193548, 36.86138613861386, 33.24107142857143, 31.82051282051282, 12.620338983050848, 6.10327868852459, 13.9438202247191, 15.577405857740585, 7.972162740899358, 17.644549763033176, 18.25, 21.274285714285714, 13.15547703180212, 19.6984126984127, 21.396551724137932, 19.390625, 17.23611111111111, 11.385321100917432, 10.089430894308943, 8.023706896551724, 32.94690265486726, 9.425316455696203, 22.160714285714285, 34.794392523364486, 26.97826086956522, 24.175324675324674, 21.6453488372093, 10.341666666666667, 19.49214659685864, 6.7690909090909095, 30.26829268292683, 34.794392523364486, 9.377833753148614, 14.486381322957198, 5.135172413793104, 7.582484725050916, 18.43069306930693, 31.285714285714285, 5.675304878048781, 8.310267857142858, 20.34426229508197, 20.456043956043956, 14.319230769230769, 14.319230769230769, 12.009677419354839, 9.03640776699029, 22.98148148148148, 24.333333333333332, 6.589380530973451, 13.109154929577464, 9.928, 31.550847457627118, 16.546666666666667, 4.16909294512878, 19.390625, 7.955128205128205, 16.25764192139738, 17.89903846153846, 20.683333333333334, 35.457142857142856, 12.166666666666666, 19.8031914893617, 17.56132075471698, 28.86046511627907, 29.31496062992126, 12.620338983050848, 17.15668202764977, 33.24107142857143, 11.634375, 30.516393442622952, 3.7267267267267266, 17.89903846153846, 37.23, 17.316279069767443, 17.077981651376145, 29.0859375, 10.399441340782124, 16.77027027027027, 5.380057803468208, 1.8717948717948718, 26.404255319148938, 4.523693803159174, 32.94690265486726, 20.34426229508197, 18.803030303030305, 32.0948275862069, 3.044153720359771, 12.927083333333334, 3.93968253968254, 21.274285714285714, 24.019354838709678, 9.875331564986737, 7.6921487603305785, 26.218309859154928, 9.425316455696203, 13.9438202247191, 15.708860759493671, 13.392086330935252, 13.202127659574469, 33.54054054054054, 18.803030303030305, 15.577405857740585, 24.49342105263158, 6.407917383820998, 26.218309859154928, 13.109154929577464, 26.784172661870503, 12.20655737704918, 2.3698281349458945, 7.132183908045977, 9.84920634920635, 20.569060773480665, 31.285714285714285, 1.0103120759837179, 9.330827067669173, 14.209923664122137, 21.15340909090909, 6.84375, 21.9, 10.885964912280702, 9.261194029850746, 28.638461538461538, 31.82051282051282, 15.134146341463415, 25.5, 6.958878504672898, 29.547619047619047, 26.034965034965033, 15.384297520661157, 32.6578947368421, 20.456043956043956, 22.02958579881657, 5.243661971830986, 9.645077720207254, 5.251057827926657, 16.32894736842105, 29.0859375, 17.0, 6.856353591160221, 9.954545454545455, 8.718969555035128, 30.024193548387096, 5.881516587677726, 12.087662337662337, 10.228021978021978, 18.07281553398058, 13.89179104477612, 8.273333333333333, 27.375, 10.457865168539326, 8.480637813211844, 9.570694087403599, 4.202031602708804, 4.4163701067615655, 6.781420765027322, 19.190721649484537, 17.0, 7.629098360655738, 3.9690831556503197, 7.837894736842105, 21.396551724137932, 2.92688679245283, 35.457142857142856, 9.771653543307087, 6.636363636363637, 34.794392523364486, 13.637362637362637, 27.992481203007518, 11.281818181818181, 16.546666666666667, 36.5, 20.683333333333334, 13.249110320284698, 7.955128205128205, 18.70854271356784, 9.928, 21.6453488372093, 3.4345018450184504, 5.937799043062201, 35.457142857142856, 12.837931034482759, 3.3420107719928187, 8.843230403800476, 9.90159574468085, 24.655629139072847, 19.90909090909091, 8.423076923076923, 19.49214659685864, 9.90159574468085, 6.452339688041595, 12.793814432989691, 9.377833753148614, 23.124223602484474, 28.638461538461538, 10.729106628242075, 3.479439252336449, 30.768595041322314, 25.854166666666668, 28.204545454545453, 23.124223602484474, 12.706484641638225, 12.41, 10.399441340782124, 7.6447638603696095, 23.713375796178344, 28.204545454545453, 11.856687898089172, 17.47887323943662, 27.175182481751825, 3.044153720359771, 13.996240601503759, 20.683333333333334, 18.615, 14.892, 19.29015544041451, 22.98148148148148, 22.84049079754601, 16.922727272727272, 31.550847457627118, 22.84049079754601, 31.82051282051282, 11.080357142857142, 33.845454545454544, 3.555873925501433, 30.26829268292683, 4.683018867924528, 17.23611111111111, 1.0, 6.073409461663948, 14.951807228915662, 11.213855421686747, 34.794392523364486, 3.1259445843828715, 26.218309859154928, 8.023706896551724, 12.75, 33.24107142857143, 11.455384615384615, 30.26829268292683, 11.526315789473685, 3.6215953307392996, 18.339901477832512, 18.43069306930693, 4.892247043363994, 6.073409461663948, 31.82051282051282]\n"
     ]
    }
   ],
   "source": [
    "ratio_resto = [MAX_NB_RESTO/p for p in nb_resto]\n",
    "print(ratio_resto)\n",
    "WEIGHT = torch.FloatTensor(ratio_resto).to(device)"
   ]
  },
  {
   "cell_type": "code",
   "execution_count": 15,
   "id": "efb0c263-dd03-49fd-805e-4c9c35f0cb6c",
   "metadata": {},
   "outputs": [
    {
     "data": {
      "text/html": [
       "<div>\n",
       "<style scoped>\n",
       "    .dataframe tbody tr th:only-of-type {\n",
       "        vertical-align: middle;\n",
       "    }\n",
       "\n",
       "    .dataframe tbody tr th {\n",
       "        vertical-align: top;\n",
       "    }\n",
       "\n",
       "    .dataframe thead th {\n",
       "        text-align: right;\n",
       "    }\n",
       "</style>\n",
       "<table border=\"1\" class=\"dataframe\">\n",
       "  <thead>\n",
       "    <tr style=\"text-align: right;\">\n",
       "      <th></th>\n",
       "      <th>business_id</th>\n",
       "      <th>review_id</th>\n",
       "      <th>user id</th>\n",
       "      <th>stars</th>\n",
       "      <th>review_date</th>\n",
       "      <th>text</th>\n",
       "      <th>name</th>\n",
       "      <th>categories</th>\n",
       "      <th>address</th>\n",
       "      <th>postal code</th>\n",
       "      <th>text_length</th>\n",
       "    </tr>\n",
       "    <tr>\n",
       "      <th>price</th>\n",
       "      <th></th>\n",
       "      <th></th>\n",
       "      <th></th>\n",
       "      <th></th>\n",
       "      <th></th>\n",
       "      <th></th>\n",
       "      <th></th>\n",
       "      <th></th>\n",
       "      <th></th>\n",
       "      <th></th>\n",
       "      <th></th>\n",
       "    </tr>\n",
       "  </thead>\n",
       "  <tbody>\n",
       "    <tr>\n",
       "      <th>1.0</th>\n",
       "      <td>55375</td>\n",
       "      <td>55375</td>\n",
       "      <td>55375</td>\n",
       "      <td>55375</td>\n",
       "      <td>55375</td>\n",
       "      <td>55375</td>\n",
       "      <td>55375</td>\n",
       "      <td>55375</td>\n",
       "      <td>55375</td>\n",
       "      <td>55375</td>\n",
       "      <td>55375</td>\n",
       "    </tr>\n",
       "    <tr>\n",
       "      <th>2.0</th>\n",
       "      <td>364563</td>\n",
       "      <td>364563</td>\n",
       "      <td>364563</td>\n",
       "      <td>364563</td>\n",
       "      <td>364563</td>\n",
       "      <td>364563</td>\n",
       "      <td>364563</td>\n",
       "      <td>364563</td>\n",
       "      <td>364563</td>\n",
       "      <td>364563</td>\n",
       "      <td>364563</td>\n",
       "    </tr>\n",
       "    <tr>\n",
       "      <th>3.0</th>\n",
       "      <td>37669</td>\n",
       "      <td>37669</td>\n",
       "      <td>37669</td>\n",
       "      <td>37669</td>\n",
       "      <td>37669</td>\n",
       "      <td>37669</td>\n",
       "      <td>37669</td>\n",
       "      <td>37669</td>\n",
       "      <td>37669</td>\n",
       "      <td>37669</td>\n",
       "      <td>37669</td>\n",
       "    </tr>\n",
       "    <tr>\n",
       "      <th>4.0</th>\n",
       "      <td>4774</td>\n",
       "      <td>4774</td>\n",
       "      <td>4774</td>\n",
       "      <td>4774</td>\n",
       "      <td>4774</td>\n",
       "      <td>4774</td>\n",
       "      <td>4774</td>\n",
       "      <td>4774</td>\n",
       "      <td>4774</td>\n",
       "      <td>4774</td>\n",
       "      <td>4774</td>\n",
       "    </tr>\n",
       "  </tbody>\n",
       "</table>\n",
       "</div>"
      ],
      "text/plain": [
       "       business_id  review_id  user id   stars  review_date    text    name  \\\n",
       "price                                                                         \n",
       "1.0          55375      55375    55375   55375        55375   55375   55375   \n",
       "2.0         364563     364563   364563  364563       364563  364563  364563   \n",
       "3.0          37669      37669    37669   37669        37669   37669   37669   \n",
       "4.0           4774       4774     4774    4774         4774    4774    4774   \n",
       "\n",
       "       categories  address  postal code  text_length  \n",
       "price                                                 \n",
       "1.0         55375    55375        55375        55375  \n",
       "2.0        364563   364563       364563       364563  \n",
       "3.0         37669    37669        37669        37669  \n",
       "4.0          4774     4774         4774         4774  "
      ]
     },
     "execution_count": 15,
     "metadata": {},
     "output_type": "execute_result"
    }
   ],
   "source": [
    "get_groupby_price(df)"
   ]
  },
  {
   "cell_type": "code",
   "execution_count": 16,
   "id": "f038fc95-fcfe-463f-a5ca-8bba5c37e951",
   "metadata": {},
   "outputs": [
    {
     "data": {
      "text/html": [
       "<div>\n",
       "<style scoped>\n",
       "    .dataframe tbody tr th:only-of-type {\n",
       "        vertical-align: middle;\n",
       "    }\n",
       "\n",
       "    .dataframe tbody tr th {\n",
       "        vertical-align: top;\n",
       "    }\n",
       "\n",
       "    .dataframe thead th {\n",
       "        text-align: right;\n",
       "    }\n",
       "</style>\n",
       "<table border=\"1\" class=\"dataframe\">\n",
       "  <thead>\n",
       "    <tr style=\"text-align: right;\">\n",
       "      <th></th>\n",
       "      <th>review_id</th>\n",
       "      <th>user id</th>\n",
       "      <th>stars</th>\n",
       "      <th>review_date</th>\n",
       "      <th>text</th>\n",
       "      <th>name</th>\n",
       "      <th>categories</th>\n",
       "      <th>address</th>\n",
       "      <th>postal code</th>\n",
       "      <th>price</th>\n",
       "      <th>text_length</th>\n",
       "    </tr>\n",
       "    <tr>\n",
       "      <th>business_id</th>\n",
       "      <th></th>\n",
       "      <th></th>\n",
       "      <th></th>\n",
       "      <th></th>\n",
       "      <th></th>\n",
       "      <th></th>\n",
       "      <th></th>\n",
       "      <th></th>\n",
       "      <th></th>\n",
       "      <th></th>\n",
       "      <th></th>\n",
       "    </tr>\n",
       "  </thead>\n",
       "  <tbody>\n",
       "    <tr>\n",
       "      <th>-5VyAi8GR34xmDAgFZTitg</th>\n",
       "      <td>425</td>\n",
       "      <td>425</td>\n",
       "      <td>425</td>\n",
       "      <td>425</td>\n",
       "      <td>425</td>\n",
       "      <td>425</td>\n",
       "      <td>425</td>\n",
       "      <td>425</td>\n",
       "      <td>425</td>\n",
       "      <td>425</td>\n",
       "      <td>425</td>\n",
       "    </tr>\n",
       "    <tr>\n",
       "      <th>-AIX1rem_OF-9Et3p_K9Gg</th>\n",
       "      <td>310</td>\n",
       "      <td>310</td>\n",
       "      <td>310</td>\n",
       "      <td>310</td>\n",
       "      <td>310</td>\n",
       "      <td>310</td>\n",
       "      <td>310</td>\n",
       "      <td>310</td>\n",
       "      <td>310</td>\n",
       "      <td>310</td>\n",
       "      <td>310</td>\n",
       "    </tr>\n",
       "    <tr>\n",
       "      <th>-CHazLwo2j2G8gWEZN53hA</th>\n",
       "      <td>755</td>\n",
       "      <td>755</td>\n",
       "      <td>755</td>\n",
       "      <td>755</td>\n",
       "      <td>755</td>\n",
       "      <td>755</td>\n",
       "      <td>755</td>\n",
       "      <td>755</td>\n",
       "      <td>755</td>\n",
       "      <td>755</td>\n",
       "      <td>755</td>\n",
       "    </tr>\n",
       "    <tr>\n",
       "      <th>-DISJqPp4zcDVw7R-MOjog</th>\n",
       "      <td>186</td>\n",
       "      <td>186</td>\n",
       "      <td>186</td>\n",
       "      <td>186</td>\n",
       "      <td>186</td>\n",
       "      <td>186</td>\n",
       "      <td>186</td>\n",
       "      <td>186</td>\n",
       "      <td>186</td>\n",
       "      <td>186</td>\n",
       "      <td>186</td>\n",
       "    </tr>\n",
       "    <tr>\n",
       "      <th>-EzfZm6rTohZdD9tfQaMyA</th>\n",
       "      <td>156</td>\n",
       "      <td>156</td>\n",
       "      <td>156</td>\n",
       "      <td>156</td>\n",
       "      <td>156</td>\n",
       "      <td>156</td>\n",
       "      <td>156</td>\n",
       "      <td>156</td>\n",
       "      <td>156</td>\n",
       "      <td>156</td>\n",
       "      <td>156</td>\n",
       "    </tr>\n",
       "    <tr>\n",
       "      <th>...</th>\n",
       "      <td>...</td>\n",
       "      <td>...</td>\n",
       "      <td>...</td>\n",
       "      <td>...</td>\n",
       "      <td>...</td>\n",
       "      <td>...</td>\n",
       "      <td>...</td>\n",
       "      <td>...</td>\n",
       "      <td>...</td>\n",
       "      <td>...</td>\n",
       "      <td>...</td>\n",
       "    </tr>\n",
       "    <tr>\n",
       "      <th>zpKvO2SOXHV9cxvBm6q4Fg</th>\n",
       "      <td>203</td>\n",
       "      <td>203</td>\n",
       "      <td>203</td>\n",
       "      <td>203</td>\n",
       "      <td>203</td>\n",
       "      <td>203</td>\n",
       "      <td>203</td>\n",
       "      <td>203</td>\n",
       "      <td>203</td>\n",
       "      <td>203</td>\n",
       "      <td>203</td>\n",
       "    </tr>\n",
       "    <tr>\n",
       "      <th>zpOcXfa6bbW6AG5L60UL_A</th>\n",
       "      <td>202</td>\n",
       "      <td>202</td>\n",
       "      <td>202</td>\n",
       "      <td>202</td>\n",
       "      <td>202</td>\n",
       "      <td>202</td>\n",
       "      <td>202</td>\n",
       "      <td>202</td>\n",
       "      <td>202</td>\n",
       "      <td>202</td>\n",
       "      <td>202</td>\n",
       "    </tr>\n",
       "    <tr>\n",
       "      <th>ztY4uPNUTWMN9LT3L5mD3Q</th>\n",
       "      <td>761</td>\n",
       "      <td>761</td>\n",
       "      <td>761</td>\n",
       "      <td>761</td>\n",
       "      <td>761</td>\n",
       "      <td>761</td>\n",
       "      <td>761</td>\n",
       "      <td>761</td>\n",
       "      <td>761</td>\n",
       "      <td>761</td>\n",
       "      <td>761</td>\n",
       "    </tr>\n",
       "    <tr>\n",
       "      <th>zzin1d1oHi81GuI0ufo1VA</th>\n",
       "      <td>613</td>\n",
       "      <td>613</td>\n",
       "      <td>613</td>\n",
       "      <td>613</td>\n",
       "      <td>613</td>\n",
       "      <td>613</td>\n",
       "      <td>613</td>\n",
       "      <td>613</td>\n",
       "      <td>613</td>\n",
       "      <td>613</td>\n",
       "      <td>613</td>\n",
       "    </tr>\n",
       "    <tr>\n",
       "      <th>zzlkjDG9Rv8Jn-vSolMgyw</th>\n",
       "      <td>117</td>\n",
       "      <td>117</td>\n",
       "      <td>117</td>\n",
       "      <td>117</td>\n",
       "      <td>117</td>\n",
       "      <td>117</td>\n",
       "      <td>117</td>\n",
       "      <td>117</td>\n",
       "      <td>117</td>\n",
       "      <td>117</td>\n",
       "      <td>117</td>\n",
       "    </tr>\n",
       "  </tbody>\n",
       "</table>\n",
       "<p>1404 rows × 11 columns</p>\n",
       "</div>"
      ],
      "text/plain": [
       "                        review_id  user id  stars  review_date  text  name  \\\n",
       "business_id                                                                  \n",
       "-5VyAi8GR34xmDAgFZTitg        425      425    425          425   425   425   \n",
       "-AIX1rem_OF-9Et3p_K9Gg        310      310    310          310   310   310   \n",
       "-CHazLwo2j2G8gWEZN53hA        755      755    755          755   755   755   \n",
       "-DISJqPp4zcDVw7R-MOjog        186      186    186          186   186   186   \n",
       "-EzfZm6rTohZdD9tfQaMyA        156      156    156          156   156   156   \n",
       "...                           ...      ...    ...          ...   ...   ...   \n",
       "zpKvO2SOXHV9cxvBm6q4Fg        203      203    203          203   203   203   \n",
       "zpOcXfa6bbW6AG5L60UL_A        202      202    202          202   202   202   \n",
       "ztY4uPNUTWMN9LT3L5mD3Q        761      761    761          761   761   761   \n",
       "zzin1d1oHi81GuI0ufo1VA        613      613    613          613   613   613   \n",
       "zzlkjDG9Rv8Jn-vSolMgyw        117      117    117          117   117   117   \n",
       "\n",
       "                        categories  address  postal code  price  text_length  \n",
       "business_id                                                                   \n",
       "-5VyAi8GR34xmDAgFZTitg         425      425          425    425          425  \n",
       "-AIX1rem_OF-9Et3p_K9Gg         310      310          310    310          310  \n",
       "-CHazLwo2j2G8gWEZN53hA         755      755          755    755          755  \n",
       "-DISJqPp4zcDVw7R-MOjog         186      186          186    186          186  \n",
       "-EzfZm6rTohZdD9tfQaMyA         156      156          156    156          156  \n",
       "...                            ...      ...          ...    ...          ...  \n",
       "zpKvO2SOXHV9cxvBm6q4Fg         203      203          203    203          203  \n",
       "zpOcXfa6bbW6AG5L60UL_A         202      202          202    202          202  \n",
       "ztY4uPNUTWMN9LT3L5mD3Q         761      761          761    761          761  \n",
       "zzin1d1oHi81GuI0ufo1VA         613      613          613    613          613  \n",
       "zzlkjDG9Rv8Jn-vSolMgyw         117      117          117    117          117  \n",
       "\n",
       "[1404 rows x 11 columns]"
      ]
     },
     "execution_count": 16,
     "metadata": {},
     "output_type": "execute_result"
    }
   ],
   "source": [
    "get_groupby_business(df)"
   ]
  },
  {
   "cell_type": "code",
   "execution_count": null,
   "id": "9de47ed8-6efd-49cd-b60d-24c03d88d0ad",
   "metadata": {},
   "outputs": [],
   "source": []
  },
  {
   "cell_type": "code",
   "execution_count": 17,
   "id": "850f8ae4-b6df-49d7-8b3e-7166d75cc3ff",
   "metadata": {},
   "outputs": [],
   "source": [
    "# df['weight'] = df.price.apply(lambda x: ratio_price[int(x)-1])"
   ]
  },
  {
   "cell_type": "code",
   "execution_count": 18,
   "id": "65611e9c-51a8-422c-8d64-703caa60d1de",
   "metadata": {},
   "outputs": [],
   "source": [
    "# df[['price', 'weight']].head(15)"
   ]
  },
  {
   "cell_type": "code",
   "execution_count": 19,
   "id": "546d859e-ba3f-4e2e-abb7-2626dbb1b22c",
   "metadata": {},
   "outputs": [],
   "source": [
    "# df['review_date'] = pd.to_datetime(df['review_date'])  \n",
    "# df = df.loc[(df['review_date'] > '2008-01-01') & (df['review_date'] <= '2020-01-01')]"
   ]
  },
  {
   "cell_type": "code",
   "execution_count": 20,
   "id": "f59baaa8-81ce-47dd-809c-540d854c55b0",
   "metadata": {
    "scrolled": true
   },
   "outputs": [],
   "source": [
    "# display(df)\n",
    "# print(df.columns)"
   ]
  },
  {
   "cell_type": "code",
   "execution_count": 21,
   "id": "0ecf69f1-e9e1-4f5b-b6cd-cad49abc1cbe",
   "metadata": {},
   "outputs": [],
   "source": [
    "# def get_sup(df, nb=100):\n",
    "#     df_count = df.groupby('business_id').count()\n",
    "#     df_plus = df_count[df_count.review_id >= nb]\n",
    "#     return df[df.business_id.isin(df_plus.index)]\n",
    "\n",
    "# df = get_sup(df,2)\n",
    "# df = df.loc[(df['review_date'] > '2008-01-01') & (df['review_date'] <= '2020-01-01')]\n",
    "# df = get_sup(df)"
   ]
  },
  {
   "cell_type": "code",
   "execution_count": 22,
   "id": "aeefb37f-ef6a-48cd-a219-e402ee06be3a",
   "metadata": {},
   "outputs": [],
   "source": [
    "# df"
   ]
  },
  {
   "cell_type": "code",
   "execution_count": 23,
   "id": "e930b6e9-64ff-4d34-a138-3cada1b2353d",
   "metadata": {},
   "outputs": [
    {
     "name": "stdout",
     "output_type": "stream",
     "text": [
      "462381\n",
      "1404\n"
     ]
    }
   ],
   "source": [
    "labels = df['business_id']\n",
    "print(len(labels))\n",
    "LABELS = list(labels.unique())\n",
    "# print(LABELS)\n",
    "NB_CLASSES = len(LABELS)\n",
    "print(NB_CLASSES)"
   ]
  },
  {
   "cell_type": "code",
   "execution_count": 24,
   "id": "bf21854d-8001-4163-9d32-6c7fb8184fe1",
   "metadata": {},
   "outputs": [],
   "source": [
    "# sent = df['text']\n",
    "# sent = sent.unique()\n",
    "# print(len(sent))\n",
    "# sentToken = [tokenizer.tokenize(str(s)) for s in sent]\n",
    "# NB_TOKEN = max(len(s) for s in sentToken)+2\n",
    "# print(NB_TOKEN)"
   ]
  },
  {
   "cell_type": "code",
   "execution_count": 25,
   "id": "e5c74a06-d3d2-491b-931e-92b7437c82b5",
   "metadata": {},
   "outputs": [],
   "source": [
    "# sentTest = max(sentToken, key = len)\n",
    "# print(sentTest)\n",
    "# tok = tokenizer(sentTest, add_special_tokens=True, padding=True, return_tensors=\"pt\")\n",
    "# print(tok['input_ids'])\n",
    "# print(tok['input_ids'].shape)"
   ]
  },
  {
   "cell_type": "code",
   "execution_count": 26,
   "id": "284b6171-9cda-48df-99fb-d9f08ed41d60",
   "metadata": {},
   "outputs": [],
   "source": [
    "NB_TOKEN = 512"
   ]
  },
  {
   "cell_type": "code",
   "execution_count": 27,
   "id": "ddcff67a-f845-414a-8648-de7b14939f8e",
   "metadata": {},
   "outputs": [],
   "source": [
    "def split(df,ratio = 0.9):\n",
    "    msk = np.random.rand(len(df)) < ratio\n",
    "    train = df[msk]\n",
    "    test = df[~msk]\n",
    "    return train, test"
   ]
  },
  {
   "cell_type": "code",
   "execution_count": 28,
   "id": "22234f99-95ad-453d-b1f6-84d07bb331d2",
   "metadata": {},
   "outputs": [],
   "source": [
    "train, test = split(df)\n",
    "train, val = split(train)"
   ]
  },
  {
   "cell_type": "code",
   "execution_count": 29,
   "id": "9b168824-8f8b-4abe-bd95-d45a3a718edd",
   "metadata": {},
   "outputs": [
    {
     "name": "stdout",
     "output_type": "stream",
     "text": [
      "374784\n",
      "41635\n",
      "45962\n"
     ]
    }
   ],
   "source": [
    "print(len(train))\n",
    "print(len(val))\n",
    "print(len(test))"
   ]
  },
  {
   "cell_type": "code",
   "execution_count": 30,
   "id": "58b669fc-02b5-4ba6-8f04-723a64df5f6f",
   "metadata": {},
   "outputs": [],
   "source": [
    "class MyDataset(Dataset):\n",
    "    def __init__(self, sentence, labels):\n",
    "        self.wrapped_input = tokenizer(sentence, max_length=NB_TOKEN, add_special_tokens=True, truncation=True,\n",
    "                          padding='max_length', return_tensors=\"pt\")\n",
    "        lab_idx = np.array([LABELS.index(l) for l in labels])\n",
    "        self.labels = np.zeros((lab_idx.size, NB_CLASSES))\n",
    "        self.labels[np.arange(lab_idx.size), lab_idx] = 1\n",
    "        # self.labels = np.array(labels).astype(float)\n",
    "    def __getitem__(self, idx):\n",
    "        input_dict = {}\n",
    "        for k in self.wrapped_input.keys():\n",
    "            input_dict[k] = self.wrapped_input[k][idx]\n",
    "        return input_dict, self.labels[idx]\n",
    "    \n",
    "    def __len__(self):\n",
    "        return len(self.labels)"
   ]
  },
  {
   "cell_type": "code",
   "execution_count": 31,
   "id": "906fd320-b9e0-459c-89e0-0322e3ca4abe",
   "metadata": {},
   "outputs": [
    {
     "name": "stdout",
     "output_type": "stream",
     "text": [
      "train done\n"
     ]
    }
   ],
   "source": [
    "BATCH_SIZE = 100\n",
    "\n",
    "trainset = MyDataset(train['text'].astype(str).tolist(), train['business_id'])\n",
    "print('train done')\n",
    "valset = MyDataset(val['text'].astype(str).tolist(), val['business_id'])\n",
    "\n",
    "train_loader = DataLoader(trainset, batch_size=BATCH_SIZE, shuffle=True)\n",
    "val_loader = DataLoader(valset, batch_size=BATCH_SIZE, shuffle=False)"
   ]
  },
  {
   "cell_type": "code",
   "execution_count": 36,
   "id": "3f8faa04-4531-43d5-b088-395064119edc",
   "metadata": {},
   "outputs": [],
   "source": [
    "# with open('train_dataloader.pkl', 'wb') as f:\n",
    "#     pickle.dump(train_loader, f)\n",
    "# with open('val_dataloader.pkl', 'wb') as f:\n",
    "#     pickle.dump(val_loader, f)"
   ]
  },
  {
   "cell_type": "code",
   "execution_count": 37,
   "id": "95344431-7e3b-4c71-a3c1-759272c05c71",
   "metadata": {},
   "outputs": [],
   "source": [
    "# with open('train_dataloader.pkl', 'rb') as f:\n",
    "#     train_loader = pickle.load(f)\n",
    "# with open('val_dataloader.pkl', 'rb') as f:\n",
    "#     val_loader = pickle.load(f)"
   ]
  },
  {
   "cell_type": "code",
   "execution_count": 38,
   "id": "916773d0-f13c-4b97-b937-8ac9ca748b59",
   "metadata": {},
   "outputs": [],
   "source": [
    "# df['text'][:10].astype(str).tolist()"
   ]
  },
  {
   "cell_type": "code",
   "execution_count": 32,
   "id": "7ded4a34-4ef2-44bc-8f59-1eec821e9849",
   "metadata": {},
   "outputs": [],
   "source": [
    "class BERT_classifier(nn.Module):\n",
    "    def __init__(self, num_label):\n",
    "        super().__init__()\n",
    "        self.bert = BertModel.from_pretrained(\"bert-base-uncased\")\n",
    "        for param in self.bert.parameters():\n",
    "            param.requires_grad = False\n",
    "        self.classifier = nn.Sequential(\n",
    "            nn.Linear(self.bert.config.hidden_size, 1024),\n",
    "            nn.ReLU(),\n",
    "            nn.Linear(1024, num_label),\n",
    "        )\n",
    "\n",
    "    def forward(self, wrapped_input):\n",
    "        hidden = self.bert(**wrapped_input)\n",
    "        last_hidden_state, pooler_output = hidden[0], hidden[1]\n",
    "        logits = self.classifier(pooler_output)\n",
    "        # logits = self.softmax(logits)\n",
    "\n",
    "        return logits.squeeze()\n",
    "\n",
    "    # def forward(self, input_ids, token_type_ids, attention_mask=None):\n",
    "    #     pooled_out = self.bert(input_ids, token_type_ids, attention_mask)[1]\n",
    "    #     logits = self.classifier(pooled_out)\n",
    "    #     return logits"
   ]
  },
  {
   "cell_type": "code",
   "execution_count": 33,
   "id": "4710ba7d-69aa-4730-9e46-14cac71a48fe",
   "metadata": {},
   "outputs": [
    {
     "name": "stdout",
     "output_type": "stream",
     "text": [
      "BERT_classifier(\n",
      "  (bert): BertModel(\n",
      "    (embeddings): BertEmbeddings(\n",
      "      (word_embeddings): Embedding(30522, 768, padding_idx=0)\n",
      "      (position_embeddings): Embedding(512, 768)\n",
      "      (token_type_embeddings): Embedding(2, 768)\n",
      "      (LayerNorm): LayerNorm((768,), eps=1e-12, elementwise_affine=True)\n",
      "      (dropout): Dropout(p=0.1, inplace=False)\n",
      "    )\n",
      "    (encoder): BertEncoder(\n",
      "      (layer): ModuleList(\n",
      "        (0-11): 12 x BertLayer(\n",
      "          (attention): BertAttention(\n",
      "            (self): BertSelfAttention(\n",
      "              (query): Linear(in_features=768, out_features=768, bias=True)\n",
      "              (key): Linear(in_features=768, out_features=768, bias=True)\n",
      "              (value): Linear(in_features=768, out_features=768, bias=True)\n",
      "              (dropout): Dropout(p=0.1, inplace=False)\n",
      "            )\n",
      "            (output): BertSelfOutput(\n",
      "              (dense): Linear(in_features=768, out_features=768, bias=True)\n",
      "              (LayerNorm): LayerNorm((768,), eps=1e-12, elementwise_affine=True)\n",
      "              (dropout): Dropout(p=0.1, inplace=False)\n",
      "            )\n",
      "          )\n",
      "          (intermediate): BertIntermediate(\n",
      "            (dense): Linear(in_features=768, out_features=3072, bias=True)\n",
      "            (intermediate_act_fn): GELUActivation()\n",
      "          )\n",
      "          (output): BertOutput(\n",
      "            (dense): Linear(in_features=3072, out_features=768, bias=True)\n",
      "            (LayerNorm): LayerNorm((768,), eps=1e-12, elementwise_affine=True)\n",
      "            (dropout): Dropout(p=0.1, inplace=False)\n",
      "          )\n",
      "        )\n",
      "      )\n",
      "    )\n",
      "    (pooler): BertPooler(\n",
      "      (dense): Linear(in_features=768, out_features=768, bias=True)\n",
      "      (activation): Tanh()\n",
      "    )\n",
      "  )\n",
      "  (classifier): Sequential(\n",
      "    (0): Linear(in_features=768, out_features=1024, bias=True)\n",
      "    (1): ReLU()\n",
      "    (2): Linear(in_features=1024, out_features=1404, bias=True)\n",
      "  )\n",
      ")\n"
     ]
    }
   ],
   "source": [
    "model = BERT_classifier(NB_CLASSES).to(device)\n",
    "print(model)"
   ]
  },
  {
   "cell_type": "code",
   "execution_count": 34,
   "id": "d0faa4d1-c8c8-4d77-a8b1-39081a8eaf0c",
   "metadata": {},
   "outputs": [
    {
     "name": "stdout",
     "output_type": "stream",
     "text": [
      "torch.Size([100, 512])\n",
      "torch.Size([100, 512])\n",
      "torch.Size([100, 512])\n",
      "torch.Size([100, 1404])\n",
      "tensor([[ 0.3269,  0.0519, -0.0199,  ...,  0.0365, -0.1256, -0.0881],\n",
      "        [ 0.2087,  0.0575,  0.0316,  ..., -0.1215, -0.1483, -0.0575],\n",
      "        [ 0.2793,  0.0428,  0.0041,  ..., -0.0106, -0.1181, -0.0916],\n",
      "        ...,\n",
      "        [ 0.2671,  0.0623, -0.0004,  ..., -0.0980, -0.1628, -0.0484],\n",
      "        [ 0.2976,  0.0694, -0.0299,  ...,  0.0686, -0.1553, -0.0807],\n",
      "        [ 0.2843,  0.1008, -0.0004,  ..., -0.0906, -0.1693, -0.0703]],\n",
      "       device='cuda:0', grad_fn=<SqueezeBackward0>)\n",
      "tensor([[0., 0., 0.,  ..., 0., 0., 0.],\n",
      "        [0., 0., 0.,  ..., 0., 0., 0.],\n",
      "        [0., 0., 0.,  ..., 0., 0., 0.],\n",
      "        ...,\n",
      "        [0., 0., 0.,  ..., 0., 0., 0.],\n",
      "        [0., 0., 0.,  ..., 0., 0., 0.],\n",
      "        [0., 0., 0.,  ..., 0., 0., 0.]], device='cuda:0', dtype=torch.float64)\n",
      "torch.Size([100, 512])\n",
      "<class 'torch.Tensor'>\n"
     ]
    }
   ],
   "source": [
    "batch_data, batch_label = next(iter(train_loader))\n",
    "for k, v in batch_data.items():\n",
    "    batch_data[k] = v.to(device)\n",
    "    print(v.shape)\n",
    "batch_label = batch_label.to(device)\n",
    "\n",
    "batch_logits = model(batch_data)\n",
    "print(batch_logits.shape)\n",
    "print(batch_logits)\n",
    "print(batch_label)\n",
    "print(batch_data['input_ids'].shape)\n",
    "print(type(batch_label[0]))"
   ]
  },
  {
   "cell_type": "code",
   "execution_count": 35,
   "id": "c293f8fd-c66e-4fbd-a814-7d0b672a2cce",
   "metadata": {},
   "outputs": [
    {
     "name": "stdout",
     "output_type": "stream",
     "text": [
      "tensor(127.0077, device='cuda:0', dtype=torch.float64, grad_fn=<DivBackward1>)\n"
     ]
    }
   ],
   "source": [
    "criterion = nn.CrossEntropyLoss(weight=WEIGHT)\n",
    "# criterion = nn.CrossEntropyLoss()\n",
    "loss = criterion(batch_logits, batch_label)\n",
    "print(loss)"
   ]
  },
  {
   "cell_type": "code",
   "execution_count": 36,
   "id": "826cb14f-65e8-43bc-bb4e-43074dc838de",
   "metadata": {},
   "outputs": [],
   "source": [
    "def train(model, train_loader, optimizer, criterion, epoch):\n",
    "    model.train()\n",
    "    train_loss, correct = 0, 0\n",
    "    for data, label in tqdm(train_loader):\n",
    "        device_data = {}\n",
    "        for k, v in data.items():\n",
    "            device_data[k] = v.to(device)\n",
    "        device_label = label.to(device)\n",
    "        \n",
    "        optimizer.zero_grad()\n",
    "        output = model(device_data)\n",
    "        loss = criterion(output, device_label)\n",
    "        train_loss += loss.item()\n",
    "        loss.backward()\n",
    "        optimizer.step()\n",
    "\n",
    "        pred = output.argmax(dim=1)\n",
    "        lab = device_label.argmax(dim=1)\n",
    "        correct += pred.eq(lab).sum().item()\n",
    "\n",
    "    train_loss /= len(train_loader)\n",
    "    acc = correct/len(train_loader.dataset)\n",
    "\n",
    "    return train_loss, acc\n",
    "\n",
    "\n",
    "def val(model, val_loader, criterion, min_val_loss):\n",
    "    model.eval()\n",
    "    val_loss, correct = 0, 0.\n",
    "    with torch.no_grad():\n",
    "        for data, label in val_loader:\n",
    "            device_data = {}\n",
    "            for k, v in data.items():\n",
    "                device_data[k] = v.to(device)\n",
    "            device_label = label.to(device)\n",
    "            \n",
    "            output = model(device_data)\n",
    "            val_loss += criterion(output, device_label).item()\n",
    "\n",
    "            pred = output.argmax(dim=1)\n",
    "            lab = device_label.argmax(dim=1)\n",
    "            correct += pred.eq(lab).sum().item()\n",
    "            \n",
    "        val_loss /= len(val_loader)\n",
    "        acc = correct/len(val_loader.dataset)\n",
    "        \n",
    "    if min_val_loss>val_loss:\n",
    "        min_val_loss = val_loss\n",
    "        torch.save(model.state_dict(), 'best-model-parameters.pt')\n",
    "        print('model saved')\n",
    "\n",
    "    return val_loss, acc, min_val_loss\n",
    "\n",
    "def fit(model, train_loader, val_loader, epochs, optimizer, criterion):\n",
    "    loss_train_per_epoch = []\n",
    "    acc_train_per_epoch = []\n",
    "    loss_val_per_epoch = []\n",
    "    acc_val_per_epoch = []\n",
    "    min_val_loss = 1000\n",
    "    for epoch in range(epochs):\n",
    "        train_loss, train_acc = train(model, train_loader, optimizer, criterion, epoch+1)\n",
    "        val_loss, val_acc, min_val_loss = val(model, val_loader, criterion, min_val_loss)\n",
    "\n",
    "        print(f'[{epoch + 1}, {len(train_loader) + 1:5d}] loss: {train_loss:.3f}, accuracy: {train_acc:.3f} loss_val: {val_loss:.3f}, accuracy_val: {val_acc:.3f}')\n",
    "        \n",
    "        loss_train_per_epoch += [train_loss]\n",
    "        acc_train_per_epoch += [train_acc]\n",
    "        loss_val_per_epoch += [val_loss]\n",
    "        acc_val_per_epoch += [val_acc]\n",
    "        \n",
    "    return loss_train_per_epoch, loss_val_per_epoch, acc_train_per_epoch, acc_val_per_epoch\n",
    "    \n",
    "    "
   ]
  },
  {
   "cell_type": "code",
   "execution_count": 37,
   "id": "c05898fb-8ea0-43af-8b2f-cfc7415ee84d",
   "metadata": {},
   "outputs": [
    {
     "name": "stderr",
     "output_type": "stream",
     "text": [
      "100%|█████████████████████████████████████| 3748/3748 [2:08:19<00:00,  2.05s/it]\n"
     ]
    },
    {
     "name": "stdout",
     "output_type": "stream",
     "text": [
      "model saved\n",
      "[1,  3749] loss: 121.568, accuracy: 0.008 loss_val: 121.800, accuracy_val: 0.007\n"
     ]
    },
    {
     "name": "stderr",
     "output_type": "stream",
     "text": [
      "100%|█████████████████████████████████████| 3748/3748 [2:08:21<00:00,  2.05s/it]\n"
     ]
    },
    {
     "name": "stdout",
     "output_type": "stream",
     "text": [
      "model saved\n",
      "[2,  3749] loss: 119.830, accuracy: 0.009 loss_val: 119.381, accuracy_val: 0.009\n"
     ]
    },
    {
     "name": "stderr",
     "output_type": "stream",
     "text": [
      "100%|█████████████████████████████████████| 3748/3748 [2:08:33<00:00,  2.06s/it]\n"
     ]
    },
    {
     "name": "stdout",
     "output_type": "stream",
     "text": [
      "model saved\n",
      "[3,  3749] loss: 119.425, accuracy: 0.009 loss_val: 118.952, accuracy_val: 0.009\n"
     ]
    },
    {
     "name": "stderr",
     "output_type": "stream",
     "text": [
      "100%|█████████████████████████████████████| 3748/3748 [2:08:46<00:00,  2.06s/it]\n"
     ]
    },
    {
     "name": "stdout",
     "output_type": "stream",
     "text": [
      "[4,  3749] loss: 119.067, accuracy: 0.009 loss_val: 119.056, accuracy_val: 0.009\n"
     ]
    },
    {
     "name": "stderr",
     "output_type": "stream",
     "text": [
      "100%|█████████████████████████████████████| 3748/3748 [2:08:40<00:00,  2.06s/it]\n"
     ]
    },
    {
     "name": "stdout",
     "output_type": "stream",
     "text": [
      "model saved\n",
      "[5,  3749] loss: 118.938, accuracy: 0.009 loss_val: 118.718, accuracy_val: 0.009\n"
     ]
    },
    {
     "name": "stderr",
     "output_type": "stream",
     "text": [
      "100%|█████████████████████████████████████| 3748/3748 [2:08:25<00:00,  2.06s/it]\n"
     ]
    },
    {
     "name": "stdout",
     "output_type": "stream",
     "text": [
      "model saved\n",
      "[6,  3749] loss: 118.850, accuracy: 0.009 loss_val: 118.477, accuracy_val: 0.009\n"
     ]
    },
    {
     "name": "stderr",
     "output_type": "stream",
     "text": [
      "100%|█████████████████████████████████████| 3748/3748 [2:08:23<00:00,  2.06s/it]\n"
     ]
    },
    {
     "name": "stdout",
     "output_type": "stream",
     "text": [
      "model saved\n",
      "[7,  3749] loss: 118.770, accuracy: 0.009 loss_val: 118.340, accuracy_val: 0.008\n"
     ]
    },
    {
     "name": "stderr",
     "output_type": "stream",
     "text": [
      "100%|█████████████████████████████████████| 3748/3748 [2:08:22<00:00,  2.06s/it]\n"
     ]
    },
    {
     "name": "stdout",
     "output_type": "stream",
     "text": [
      "[8,  3749] loss: 118.702, accuracy: 0.009 loss_val: 118.459, accuracy_val: 0.009\n"
     ]
    },
    {
     "name": "stderr",
     "output_type": "stream",
     "text": [
      "100%|█████████████████████████████████████| 3748/3748 [2:08:21<00:00,  2.05s/it]\n"
     ]
    },
    {
     "name": "stdout",
     "output_type": "stream",
     "text": [
      "[9,  3749] loss: 118.643, accuracy: 0.009 loss_val: 118.445, accuracy_val: 0.008\n"
     ]
    },
    {
     "name": "stderr",
     "output_type": "stream",
     "text": [
      "100%|█████████████████████████████████████| 3748/3748 [2:08:20<00:00,  2.05s/it]\n"
     ]
    },
    {
     "name": "stdout",
     "output_type": "stream",
     "text": [
      "model saved\n",
      "[10,  3749] loss: 118.659, accuracy: 0.009 loss_val: 118.195, accuracy_val: 0.008\n"
     ]
    },
    {
     "name": "stderr",
     "output_type": "stream",
     "text": [
      "100%|█████████████████████████████████████| 3748/3748 [2:08:20<00:00,  2.05s/it]\n"
     ]
    },
    {
     "name": "stdout",
     "output_type": "stream",
     "text": [
      "[11,  3749] loss: 118.544, accuracy: 0.009 loss_val: 118.251, accuracy_val: 0.007\n"
     ]
    },
    {
     "name": "stderr",
     "output_type": "stream",
     "text": [
      "100%|█████████████████████████████████████| 3748/3748 [2:08:22<00:00,  2.06s/it]\n"
     ]
    },
    {
     "name": "stdout",
     "output_type": "stream",
     "text": [
      "model saved\n",
      "[12,  3749] loss: 118.535, accuracy: 0.009 loss_val: 118.081, accuracy_val: 0.008\n"
     ]
    },
    {
     "name": "stderr",
     "output_type": "stream",
     "text": [
      "100%|█████████████████████████████████████| 3748/3748 [2:08:27<00:00,  2.06s/it]\n"
     ]
    },
    {
     "name": "stdout",
     "output_type": "stream",
     "text": [
      "[13,  3749] loss: 118.461, accuracy: 0.009 loss_val: 118.389, accuracy_val: 0.009\n"
     ]
    },
    {
     "name": "stderr",
     "output_type": "stream",
     "text": [
      "100%|█████████████████████████████████████| 3748/3748 [2:08:44<00:00,  2.06s/it]\n"
     ]
    },
    {
     "name": "stdout",
     "output_type": "stream",
     "text": [
      "model saved\n",
      "[14,  3749] loss: 118.467, accuracy: 0.009 loss_val: 118.036, accuracy_val: 0.009\n"
     ]
    },
    {
     "name": "stderr",
     "output_type": "stream",
     "text": [
      "100%|█████████████████████████████████████| 3748/3748 [2:08:39<00:00,  2.06s/it]\n"
     ]
    },
    {
     "name": "stdout",
     "output_type": "stream",
     "text": [
      "[15,  3749] loss: 118.440, accuracy: 0.009 loss_val: 118.736, accuracy_val: 0.008\n"
     ]
    },
    {
     "name": "stderr",
     "output_type": "stream",
     "text": [
      "100%|█████████████████████████████████████| 3748/3748 [2:08:34<00:00,  2.06s/it]\n"
     ]
    },
    {
     "name": "stdout",
     "output_type": "stream",
     "text": [
      "model saved\n",
      "[16,  3749] loss: 118.443, accuracy: 0.009 loss_val: 117.935, accuracy_val: 0.009\n"
     ]
    },
    {
     "name": "stderr",
     "output_type": "stream",
     "text": [
      "100%|█████████████████████████████████████| 3748/3748 [2:08:28<00:00,  2.06s/it]\n"
     ]
    },
    {
     "name": "stdout",
     "output_type": "stream",
     "text": [
      "model saved\n",
      "[17,  3749] loss: 118.385, accuracy: 0.009 loss_val: 117.896, accuracy_val: 0.009\n"
     ]
    },
    {
     "name": "stderr",
     "output_type": "stream",
     "text": [
      "100%|█████████████████████████████████████| 3748/3748 [2:08:15<00:00,  2.05s/it]\n"
     ]
    },
    {
     "name": "stdout",
     "output_type": "stream",
     "text": [
      "[18,  3749] loss: 118.395, accuracy: 0.009 loss_val: 117.901, accuracy_val: 0.009\n"
     ]
    },
    {
     "name": "stderr",
     "output_type": "stream",
     "text": [
      "100%|█████████████████████████████████████| 3748/3748 [2:08:13<00:00,  2.05s/it]\n"
     ]
    },
    {
     "name": "stdout",
     "output_type": "stream",
     "text": [
      "[19,  3749] loss: 118.360, accuracy: 0.009 loss_val: 119.818, accuracy_val: 0.007\n"
     ]
    },
    {
     "name": "stderr",
     "output_type": "stream",
     "text": [
      "100%|█████████████████████████████████████| 3748/3748 [2:08:13<00:00,  2.05s/it]\n"
     ]
    },
    {
     "name": "stdout",
     "output_type": "stream",
     "text": [
      "[20,  3749] loss: 118.401, accuracy: 0.009 loss_val: 118.144, accuracy_val: 0.009\n"
     ]
    },
    {
     "name": "stderr",
     "output_type": "stream",
     "text": [
      "100%|█████████████████████████████████████| 3748/3748 [2:08:12<00:00,  2.05s/it]\n"
     ]
    },
    {
     "name": "stdout",
     "output_type": "stream",
     "text": [
      "model saved\n",
      "[21,  3749] loss: 118.361, accuracy: 0.009 loss_val: 117.814, accuracy_val: 0.009\n"
     ]
    },
    {
     "name": "stderr",
     "output_type": "stream",
     "text": [
      "100%|█████████████████████████████████████| 3748/3748 [2:08:13<00:00,  2.05s/it]\n"
     ]
    },
    {
     "name": "stdout",
     "output_type": "stream",
     "text": [
      "[22,  3749] loss: 118.341, accuracy: 0.009 loss_val: 119.156, accuracy_val: 0.008\n"
     ]
    },
    {
     "name": "stderr",
     "output_type": "stream",
     "text": [
      "100%|█████████████████████████████████████| 3748/3748 [2:08:23<00:00,  2.06s/it]\n"
     ]
    },
    {
     "name": "stdout",
     "output_type": "stream",
     "text": [
      "model saved\n",
      "[23,  3749] loss: 118.311, accuracy: 0.009 loss_val: 117.796, accuracy_val: 0.009\n"
     ]
    },
    {
     "name": "stderr",
     "output_type": "stream",
     "text": [
      "100%|█████████████████████████████████████| 3748/3748 [2:08:35<00:00,  2.06s/it]\n"
     ]
    },
    {
     "name": "stdout",
     "output_type": "stream",
     "text": [
      "[24,  3749] loss: 118.321, accuracy: 0.009 loss_val: 117.979, accuracy_val: 0.009\n"
     ]
    },
    {
     "name": "stderr",
     "output_type": "stream",
     "text": [
      "100%|█████████████████████████████████████| 3748/3748 [2:08:35<00:00,  2.06s/it]\n"
     ]
    },
    {
     "name": "stdout",
     "output_type": "stream",
     "text": [
      "[25,  3749] loss: 118.299, accuracy: 0.009 loss_val: 118.958, accuracy_val: 0.008\n"
     ]
    },
    {
     "name": "stderr",
     "output_type": "stream",
     "text": [
      "100%|█████████████████████████████████████| 3748/3748 [2:08:28<00:00,  2.06s/it]\n"
     ]
    },
    {
     "name": "stdout",
     "output_type": "stream",
     "text": [
      "[26,  3749] loss: 118.306, accuracy: 0.009 loss_val: 117.916, accuracy_val: 0.009\n"
     ]
    },
    {
     "name": "stderr",
     "output_type": "stream",
     "text": [
      "100%|█████████████████████████████████████| 3748/3748 [2:08:25<00:00,  2.06s/it]\n"
     ]
    },
    {
     "name": "stdout",
     "output_type": "stream",
     "text": [
      "[27,  3749] loss: 118.322, accuracy: 0.009 loss_val: 119.017, accuracy_val: 0.008\n"
     ]
    },
    {
     "name": "stderr",
     "output_type": "stream",
     "text": [
      "100%|█████████████████████████████████████| 3748/3748 [2:08:24<00:00,  2.06s/it]\n"
     ]
    },
    {
     "name": "stdout",
     "output_type": "stream",
     "text": [
      "[28,  3749] loss: 118.280, accuracy: 0.009 loss_val: 118.122, accuracy_val: 0.009\n"
     ]
    },
    {
     "name": "stderr",
     "output_type": "stream",
     "text": [
      "100%|█████████████████████████████████████| 3748/3748 [2:08:23<00:00,  2.06s/it]\n"
     ]
    },
    {
     "name": "stdout",
     "output_type": "stream",
     "text": [
      "model saved\n",
      "[29,  3749] loss: 118.293, accuracy: 0.009 loss_val: 117.791, accuracy_val: 0.009\n"
     ]
    },
    {
     "name": "stderr",
     "output_type": "stream",
     "text": [
      "100%|█████████████████████████████████████| 3748/3748 [2:08:21<00:00,  2.05s/it]\n"
     ]
    },
    {
     "name": "stdout",
     "output_type": "stream",
     "text": [
      "[30,  3749] loss: 118.278, accuracy: 0.009 loss_val: 118.048, accuracy_val: 0.010\n"
     ]
    }
   ],
   "source": [
    "optimizer = optim.Adam(model.parameters(), lr=5e-3)\n",
    "criterion = nn.CrossEntropyLoss(weight=WEIGHT)\n",
    "# criterion = nn.CrossEntropyLoss()\n",
    "epochs=30\n",
    "loss_train_per_epoch, loss_val_per_epoch, acc_train_per_epoch, acc_val_per_epoch = fit(model, train_loader, val_loader, epochs, optimizer, criterion)"
   ]
  },
  {
   "cell_type": "code",
   "execution_count": 38,
   "id": "f97452ab-46a8-406e-bd49-41e4a9d4272b",
   "metadata": {},
   "outputs": [
    {
     "name": "stdout",
     "output_type": "stream",
     "text": [
      "tensor([[-1.8419, -2.2597, -2.1279,  ..., -4.7962, -4.9809, -3.2485],\n",
      "        [-1.1398, -2.0111, -2.1409,  ..., -3.9262, -4.5331, -2.3656],\n",
      "        [-1.2962, -2.0665, -2.1380,  ..., -4.1200, -4.6329, -2.5622],\n",
      "        ...,\n",
      "        [-0.5227, -1.7926, -2.1524,  ..., -3.1614, -4.1396, -1.5895],\n",
      "        [ 0.5686, -1.4063, -2.1727,  ..., -1.8091, -3.4437, -0.2172],\n",
      "        [-0.9674, -1.9501, -2.1441,  ..., -3.7125, -4.4232, -2.1488]],\n",
      "       device='cuda:0', grad_fn=<SqueezeBackward0>)\n",
      "tensor([[0., 0., 0.,  ..., 0., 0., 0.],\n",
      "        [0., 0., 0.,  ..., 0., 0., 0.],\n",
      "        [0., 0., 0.,  ..., 0., 0., 0.],\n",
      "        ...,\n",
      "        [0., 0., 0.,  ..., 0., 0., 0.],\n",
      "        [0., 0., 0.,  ..., 0., 0., 0.],\n",
      "        [0., 0., 0.,  ..., 0., 0., 0.]], dtype=torch.float64)\n"
     ]
    }
   ],
   "source": [
    "batch_data, batch_label = next(iter(val_loader))\n",
    "for k, v in batch_data.items():\n",
    "    batch_data[k] = v.to(device)\n",
    "batch_logits = model(batch_data)\n",
    "print(batch_logits)\n",
    "print(batch_label)"
   ]
  },
  {
   "cell_type": "code",
   "execution_count": 39,
   "id": "b68eeb81-e407-4273-9cfe-6a1646a16c5e",
   "metadata": {},
   "outputs": [],
   "source": [
    "def show_loss(loss_train,loss_val):\n",
    "    plt.figure(figsize=(10,5))\n",
    "    plt.title(\"Training and Validation Loss\")\n",
    "    plt.plot(loss_val,label=\"val\")\n",
    "    plt.plot(loss_train,label=\"train\")\n",
    "    plt.xlabel(\"iterations\")\n",
    "    plt.ylabel(\"Loss\")\n",
    "    plt.legend()\n",
    "    plt.show()\n",
    "\n",
    "def show_acuracy(acc_train,acc_val):\n",
    "    plt.figure(figsize=(10,5))\n",
    "    plt.title(\"Training and Validation Accuracy\")\n",
    "    plt.plot(acc_val,label=\"val\")\n",
    "    plt.plot(acc_train,label=\"train\")\n",
    "    plt.xlabel(\"iterations\")\n",
    "    plt.ylabel(\"Accuracy\")\n",
    "    plt.legend()\n",
    "    plt.show()"
   ]
  },
  {
   "cell_type": "code",
   "execution_count": 40,
   "id": "eb40f123-f51a-4c75-ac02-5867229be7be",
   "metadata": {},
   "outputs": [],
   "source": [
    "def show_matrix_confusion(model, val_dataloader):\n",
    "    model.eval()\n",
    "    val_acc = 0.0\n",
    "    true_lab = []\n",
    "    pred = []\n",
    "    with torch.no_grad():\n",
    "        for data, label in val_loader:\n",
    "            device_data = {}\n",
    "            for k, v in data.items():\n",
    "                device_data[k] = v.to(device)\n",
    "            device_label = label.to(device)\n",
    "            \n",
    "            output = model(device_data)\n",
    "            out = output.argmax(dim=1)\n",
    "            lab = device_label.argmax(dim=1)\n",
    "            val_acc += out.eq(lab).sum().item()\n",
    "            true_lab += [lab.cpu().numpy()]\n",
    "            pred += [out.cpu().numpy()]\n",
    "    \n",
    "    print(f'accuracy: {val_acc / len(val_dataloader.dataset):.3f}')\n",
    "    y_pred = np.concatenate(pred)\n",
    "    y_true = np.concatenate(true_lab)\n",
    "\n",
    "    print(\"Balanced accuracy :\",balanced_accuracy_score(y_true, y_pred))\n",
    "    \n",
    "    confusion_matrix = metrics.confusion_matrix(y_true, y_pred)\n",
    "    cm_display = metrics.ConfusionMatrixDisplay(confusion_matrix)\n",
    "    \n",
    "    cm_display.plot()\n",
    "    plt.show() "
   ]
  },
  {
   "cell_type": "code",
   "execution_count": 41,
   "id": "ca67feb5-e891-4b09-b0cf-792d92fa93bb",
   "metadata": {},
   "outputs": [
    {
     "data": {
      "image/png": "[encoded data removed]",
      "text/plain": [
       "<Figure size 1000x500 with 1 Axes>"
      ]
     },
     "metadata": {},
     "output_type": "display_data"
    }
   ],
   "source": [
    "show_acuracy(acc_train_per_epoch,acc_val_per_epoch)"
   ]
  },
  {
   "cell_type": "code",
   "execution_count": 42,
   "id": "b27bf088-7ec0-494e-8ef2-29a691b7f404",
   "metadata": {},
   "outputs": [
    {
     "data": {
      "image/png": "[encoded data removed]",
      "text/plain": [
       "<Figure size 1000x500 with 1 Axes>"
      ]
     },
     "metadata": {},
     "output_type": "display_data"
    }
   ],
   "source": [
    "show_loss(loss_train_per_epoch,loss_val_per_epoch)"
   ]
  },
  {
   "cell_type": "code",
   "execution_count": 43,
   "id": "d54249a0-772d-43ee-930d-250e09828942",
   "metadata": {},
   "outputs": [
    {
     "ename": "KeyboardInterrupt",
     "evalue": "",
     "output_type": "error",
     "traceback": [
      "\u001b[0;31m---------------------------------------------------------------------------\u001b[0m",
      "\u001b[0;31mKeyboardInterrupt\u001b[0m                         Traceback (most recent call last)",
      "Cell \u001b[0;32mIn[43], line 1\u001b[0m\n\u001b[0;32m----> 1\u001b[0m \u001b[43mshow_matrix_confusion\u001b[49m\u001b[43m(\u001b[49m\u001b[43mmodel\u001b[49m\u001b[43m,\u001b[49m\u001b[43m \u001b[49m\u001b[43mval_loader\u001b[49m\u001b[43m)\u001b[49m\n",
      "Cell \u001b[0;32mIn[40], line 16\u001b[0m, in \u001b[0;36mshow_matrix_confusion\u001b[0;34m(model, val_dataloader)\u001b[0m\n\u001b[1;32m     14\u001b[0m out \u001b[38;5;241m=\u001b[39m output\u001b[38;5;241m.\u001b[39margmax(dim\u001b[38;5;241m=\u001b[39m\u001b[38;5;241m1\u001b[39m)\n\u001b[1;32m     15\u001b[0m lab \u001b[38;5;241m=\u001b[39m device_label\u001b[38;5;241m.\u001b[39margmax(dim\u001b[38;5;241m=\u001b[39m\u001b[38;5;241m1\u001b[39m)\n\u001b[0;32m---> 16\u001b[0m val_acc \u001b[38;5;241m+\u001b[39m\u001b[38;5;241m=\u001b[39m \u001b[43mout\u001b[49m\u001b[38;5;241;43m.\u001b[39;49m\u001b[43meq\u001b[49m\u001b[43m(\u001b[49m\u001b[43mlab\u001b[49m\u001b[43m)\u001b[49m\u001b[38;5;241;43m.\u001b[39;49m\u001b[43msum\u001b[49m\u001b[43m(\u001b[49m\u001b[43m)\u001b[49m\u001b[38;5;241;43m.\u001b[39;49m\u001b[43mitem\u001b[49m\u001b[43m(\u001b[49m\u001b[43m)\u001b[49m\n\u001b[1;32m     17\u001b[0m true_lab \u001b[38;5;241m+\u001b[39m\u001b[38;5;241m=\u001b[39m [lab\u001b[38;5;241m.\u001b[39mcpu()\u001b[38;5;241m.\u001b[39mnumpy()]\n\u001b[1;32m     18\u001b[0m pred \u001b[38;5;241m+\u001b[39m\u001b[38;5;241m=\u001b[39m [out\u001b[38;5;241m.\u001b[39mcpu()\u001b[38;5;241m.\u001b[39mnumpy()]\n",
      "\u001b[0;31mKeyboardInterrupt\u001b[0m: "
     ]
    }
   ],
   "source": [
    "show_matrix_confusion(model, val_loader)"
   ]
  },
  {
   "cell_type": "code",
   "execution_count": null,
   "id": "9a5126af-a470-4d23-8376-32aa9a98b526",
   "metadata": {},
   "outputs": [],
   "source": []
  }
 ],
 "metadata": {
  "kernelspec": {
   "display_name": "Python 3 (ipykernel)",
   "language": "python",
   "name": "python3"
  },
  "language_info": {
   "codemirror_mode": {
    "name": "ipython",
    "version": 3
   },
   "file_extension": ".py",
   "mimetype": "text/x-python",
   "name": "python",
   "nbconvert_exporter": "python",
   "pygments_lexer": "ipython3",
   "version": "3.11.4"
  }
 },
 "nbformat": 4,
 "nbformat_minor": 5
}
